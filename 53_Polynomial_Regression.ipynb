{
  "nbformat": 4,
  "nbformat_minor": 0,
  "metadata": {
    "colab": {
      "provenance": [],
      "authorship_tag": "ABX9TyOJJhqmyM2/BKlWJ7q8tvra"
    },
    "kernelspec": {
      "name": "python3",
      "display_name": "Python 3"
    },
    "language_info": {
      "name": "python"
    }
  },
  "cells": [
    {
      "cell_type": "code",
      "execution_count": 37,
      "metadata": {
        "id": "r32Z_4S8-sb4"
      },
      "outputs": [],
      "source": [
        "import numpy as np\n",
        "import matplotlib.pyplot as plt\n",
        "\n",
        "from sklearn.model_selection import train_test_split\n",
        "\n",
        "from sklearn.linear_model import LinearRegression,SGDRegressor\n",
        "\n",
        "from sklearn.preprocessing import PolynomialFeatures,StandardScaler\n",
        "\n",
        "from sklearn.metrics import r2_score\n",
        "\n",
        "from sklearn.pipeline import Pipeline"
      ]
    },
    {
      "cell_type": "code",
      "source": [
        "X = 6 * np.random.rand(200, 1) - 3\n",
        "y = 0.8 * X**2 + 0.9 * X + 2 + np.random.randn(200, 1)\n",
        "\n",
        "# y = 0.8x^2 + 0.9x + 2"
      ],
      "metadata": {
        "id": "cMGq8QK7-0t8"
      },
      "execution_count": 38,
      "outputs": []
    },
    {
      "cell_type": "code",
      "source": [
        "plt.plot(X, y,'b.')\n",
        "plt.xlabel(\"X\")\n",
        "plt.ylabel(\"y\")\n",
        "plt.show()"
      ],
      "metadata": {
        "colab": {
          "base_uri": "https://localhost:8080/",
          "height": 279
        },
        "id": "-zlf1toj-2lR",
        "outputId": "41511718-bb14-486c-9425-2285b0e0c77c"
      },
      "execution_count": 39,
      "outputs": [
        {
          "output_type": "display_data",
          "data": {
            "text/plain": [
              "<Figure size 432x288 with 1 Axes>"
            ],
            "image/png": "[encoded data removed]"
          },
          "metadata": {
            "needs_background": "light"
          }
        }
      ]
    },
    {
      "cell_type": "code",
      "source": [
        "# Train test split\n",
        "X_train,X_test,y_train,y_test = train_test_split(X,y,test_size=0.2,random_state=2)"
      ],
      "metadata": {
        "id": "4pekG_0E-4Zq"
      },
      "execution_count": 40,
      "outputs": []
    },
    {
      "cell_type": "code",
      "source": [
        "# Applying linear regression\n",
        "lr = LinearRegression()"
      ],
      "metadata": {
        "id": "95vis5ub-66A"
      },
      "execution_count": 41,
      "outputs": []
    },
    {
      "cell_type": "code",
      "source": [
        "lr.fit(X_train,y_train)"
      ],
      "metadata": {
        "colab": {
          "base_uri": "https://localhost:8080/"
        },
        "id": "wpx4A-2P-8cf",
        "outputId": "7b7ca3d4-9eb0-435a-97d2-1b306a4d6d91"
      },
      "execution_count": 42,
      "outputs": [
        {
          "output_type": "execute_result",
          "data": {
            "text/plain": [
              "LinearRegression()"
            ]
          },
          "metadata": {},
          "execution_count": 42
        }
      ]
    },
    {
      "cell_type": "code",
      "source": [
        "lr.fit(X_train,y_train)"
      ],
      "metadata": {
        "colab": {
          "base_uri": "https://localhost:8080/"
        },
        "id": "a0NmrvQO--W9",
        "outputId": "eb97df1b-35c7-42a0-e5e7-c2db04db2b6a"
      },
      "execution_count": 43,
      "outputs": [
        {
          "output_type": "execute_result",
          "data": {
            "text/plain": [
              "LinearRegression()"
            ]
          },
          "metadata": {},
          "execution_count": 43
        }
      ]
    },
    {
      "cell_type": "code",
      "source": [
        "y_pred = lr.predict(X_test)\n",
        "r2_score(y_test,y_pred)"
      ],
      "metadata": {
        "colab": {
          "base_uri": "https://localhost:8080/"
        },
        "id": "n9FiHnyD-_8Y",
        "outputId": "97e7a091-827e-40e2-e303-8fa62c7af9c2"
      },
      "execution_count": 44,
      "outputs": [
        {
          "output_type": "execute_result",
          "data": {
            "text/plain": [
              "0.20500290749791072"
            ]
          },
          "metadata": {},
          "execution_count": 44
        }
      ]
    },
    {
      "cell_type": "code",
      "source": [
        "plt.plot(X_train,lr.predict(X_train),color='r')\n",
        "plt.plot(X, y, \"b.\")\n",
        "plt.xlabel(\"X\")\n",
        "plt.ylabel(\"y\")\n",
        "plt.show()"
      ],
      "metadata": {
        "colab": {
          "base_uri": "https://localhost:8080/",
          "height": 279
        },
        "id": "v6rwOd0T_CPe",
        "outputId": "631e3317-b308-4ae1-e5cb-536e40d8a4b7"
      },
      "execution_count": 45,
      "outputs": [
        {
          "output_type": "display_data",
          "data": {
            "text/plain": [
              "<Figure size 432x288 with 1 Axes>"
            ],
            "image/png": "[encoded data removed]"
          },
          "metadata": {
            "needs_background": "light"
          }
        }
      ]
    },
    {
      "cell_type": "code",
      "source": [
        "# Applying Polynomial Linear Regression\n",
        "# degree 2\n",
        "poly = PolynomialFeatures(degree=2,include_bias=True)\n",
        "\n",
        "X_train_trans = poly.fit_transform(X_train)\n",
        "X_test_trans = poly.transform(X_test)"
      ],
      "metadata": {
        "id": "ieq7oYu6_Dtf"
      },
      "execution_count": 46,
      "outputs": []
    },
    {
      "cell_type": "code",
      "source": [
        "print(X_train[0])\n",
        "print(X_train_trans[0])"
      ],
      "metadata": {
        "colab": {
          "base_uri": "https://localhost:8080/"
        },
        "id": "cPRJtNSu_F-8",
        "outputId": "09164fb5-71bc-476d-b92b-ca4ab031ad36"
      },
      "execution_count": 47,
      "outputs": [
        {
          "output_type": "stream",
          "name": "stdout",
          "text": [
            "[1.71574796]\n",
            "[1.         1.71574796 2.94379106]\n"
          ]
        }
      ]
    },
    {
      "cell_type": "code",
      "source": [
        "# include_bias parameter"
      ],
      "metadata": {
        "id": "oWMliqBL_HeN"
      },
      "execution_count": 48,
      "outputs": []
    },
    {
      "cell_type": "code",
      "source": [
        "lr = LinearRegression()\n",
        "lr.fit(X_train_trans,y_train)"
      ],
      "metadata": {
        "colab": {
          "base_uri": "https://localhost:8080/"
        },
        "id": "UfWaWuSR_JOH",
        "outputId": "14bf3e67-1cdf-4b3a-d32e-5f633a084216"
      },
      "execution_count": 49,
      "outputs": [
        {
          "output_type": "execute_result",
          "data": {
            "text/plain": [
              "LinearRegression()"
            ]
          },
          "metadata": {},
          "execution_count": 49
        }
      ]
    },
    {
      "cell_type": "code",
      "source": [
        "y_pred = lr.predict(X_test_trans)"
      ],
      "metadata": {
        "id": "iJd22_1n_KjL"
      },
      "execution_count": 50,
      "outputs": []
    },
    {
      "cell_type": "code",
      "source": [
        "r2_score(y_test,y_pred)"
      ],
      "metadata": {
        "colab": {
          "base_uri": "https://localhost:8080/"
        },
        "id": "XI67JWrE_L5Q",
        "outputId": "7142fcff-db3c-4d6e-d130-30866756dc3d"
      },
      "execution_count": 51,
      "outputs": [
        {
          "output_type": "execute_result",
          "data": {
            "text/plain": [
              "0.9020543246640883"
            ]
          },
          "metadata": {},
          "execution_count": 51
        }
      ]
    },
    {
      "cell_type": "code",
      "source": [
        "print(lr.coef_)\n",
        "print(lr.intercept_)"
      ],
      "metadata": {
        "colab": {
          "base_uri": "https://localhost:8080/"
        },
        "id": "bY24uIhc_NSG",
        "outputId": "6282882e-ec91-4034-e809-14d734bd0a6c"
      },
      "execution_count": 52,
      "outputs": [
        {
          "output_type": "stream",
          "name": "stdout",
          "text": [
            "[[0.         0.87924055 0.85277942]]\n",
            "[1.78864971]\n"
          ]
        }
      ]
    },
    {
      "cell_type": "code",
      "source": [
        "X_new=np.linspace(-3, 3, 200).reshape(200, 1)\n",
        "X_new_poly = poly.transform(X_new)\n",
        "y_new = lr.predict(X_new_poly)"
      ],
      "metadata": {
        "id": "21v2URSk_QFH"
      },
      "execution_count": 53,
      "outputs": []
    },
    {
      "cell_type": "code",
      "source": [
        "plt.plot(X_new, y_new, \"r-\", linewidth=2, label=\"Predictions\")\n",
        "plt.plot(X_train, y_train, \"b.\",label='Training points')\n",
        "plt.plot(X_test, y_test, \"g.\",label='Testing points')\n",
        "plt.xlabel(\"X\")\n",
        "plt.ylabel(\"y\")\n",
        "plt.legend()\n",
        "plt.show()"
      ],
      "metadata": {
        "colab": {
          "base_uri": "https://localhost:8080/",
          "height": 279
        },
        "id": "kdANRRTr_Rm6",
        "outputId": "6161f73b-35fd-493b-804a-cdf7bbe327bb"
      },
      "execution_count": 54,
      "outputs": [
        {
          "output_type": "display_data",
          "data": {
            "text/plain": [
              "<Figure size 432x288 with 1 Axes>"
            ],
            "image/png": "[encoded data removed]"
          },
          "metadata": {
            "needs_background": "light"
          }
        }
      ]
    },
    {
      "cell_type": "code",
      "source": [
        "def polynomial_regression(degree):\n",
        "    X_new=np.linspace(-3, 3, 100).reshape(100, 1)\n",
        "    X_new_poly = poly.transform(X_new)\n",
        "\n",
        "    polybig_features = PolynomialFeatures(degree=degree, include_bias=False)\n",
        "    std_scaler = StandardScaler()\n",
        "    lin_reg = LinearRegression()\n",
        "    polynomial_regression = Pipeline([\n",
        "            (\"poly_features\", polybig_features),\n",
        "            (\"std_scaler\", std_scaler),\n",
        "            (\"lin_reg\", lin_reg),\n",
        "        ])\n",
        "    polynomial_regression.fit(X, y)\n",
        "    y_newbig = polynomial_regression.predict(X_new)\n",
        "    plt.plot(X_new, y_newbig,'r', label=\"Degree \" + str(degree), linewidth=2)\n",
        "\n",
        "    plt.plot(X_train, y_train, \"b.\", linewidth=3)\n",
        "    plt.plot(X_test, y_test, \"g.\", linewidth=3)\n",
        "    plt.legend(loc=\"upper left\")\n",
        "    plt.xlabel(\"X\")\n",
        "    plt.ylabel(\"y\")\n",
        "    plt.axis([-3, 3, 0, 10])\n",
        "    plt.show()"
      ],
      "metadata": {
        "id": "YJdxelOe_TI8"
      },
      "execution_count": 55,
      "outputs": []
    },
    {
      "cell_type": "code",
      "source": [
        "polynomial_regression(350)"
      ],
      "metadata": {
        "colab": {
          "base_uri": "https://localhost:8080/",
          "height": 422
        },
        "id": "ZoOte-mR_bpO",
        "outputId": "b98b7f6f-0454-4b35-a26a-b806353582e7"
      },
      "execution_count": 56,
      "outputs": [
        {
          "output_type": "stream",
          "name": "stderr",
          "text": [
            "/usr/local/lib/python3.7/dist-packages/sklearn/utils/extmath.py:1014: RuntimeWarning:\n",
            "\n",
            "overflow encountered in square\n",
            "\n",
            "/usr/local/lib/python3.7/dist-packages/numpy/core/fromnumeric.py:86: RuntimeWarning:\n",
            "\n",
            "overflow encountered in reduce\n",
            "\n"
          ]
        },
        {
          "output_type": "display_data",
          "data": {
            "text/plain": [
              "<Figure size 432x288 with 1 Axes>"
            ],
            "image/png": "[encoded data removed]"
          },
          "metadata": {
            "needs_background": "light"
          }
        }
      ]
    },
    {
      "cell_type": "code",
      "source": [
        "poly.powers_"
      ],
      "metadata": {
        "colab": {
          "base_uri": "https://localhost:8080/"
        },
        "id": "7Sv1kaCv_Vuw",
        "outputId": "c6cc293a-6efb-456f-c2ea-108014ab7f1e"
      },
      "execution_count": 57,
      "outputs": [
        {
          "output_type": "execute_result",
          "data": {
            "text/plain": [
              "array([[0],\n",
              "       [1],\n",
              "       [2]])"
            ]
          },
          "metadata": {},
          "execution_count": 57
        }
      ]
    },
    {
      "cell_type": "code",
      "source": [
        "# Applying Gradient Descent\n",
        "\n",
        "poly = PolynomialFeatures(degree=2)\n",
        "\n",
        "X_train_trans = poly.fit_transform(X_train)\n",
        "X_test_trans = poly.transform(X_test)\n",
        "\n",
        "sgd = SGDRegressor(max_iter=100)\n",
        "sgd.fit(X_train_trans,y_train)\n",
        "\n",
        "X_new=np.linspace(-2.9, 2.8, 200).reshape(200, 1)\n",
        "X_new_poly = poly.transform(X_new)\n",
        "y_new = sgd.predict(X_new_poly)\n",
        "\n",
        "y_pred = sgd.predict(X_test_trans)\n",
        "\n",
        "plt.plot(X_new, y_new, \"r-\", linewidth=2, label=\"Predictions \" + str(round(r2_score(y_test,y_pred),2)))\n",
        "plt.plot(X_train, y_train, \"b.\",label='Training points')\n",
        "plt.plot(X_test, y_test, \"g.\",label='Testing points')\n",
        "plt.xlabel(\"X\")\n",
        "plt.ylabel(\"y\")\n",
        "plt.legend()\n",
        "plt.show()"
      ],
      "metadata": {
        "colab": {
          "base_uri": "https://localhost:8080/",
          "height": 348
        },
        "id": "u6tIK8NO_YHe",
        "outputId": "18d317af-b39d-4a4b-dd97-da8211dcbcfb"
      },
      "execution_count": 58,
      "outputs": [
        {
          "output_type": "stream",
          "name": "stderr",
          "text": [
            "/usr/local/lib/python3.7/dist-packages/sklearn/utils/validation.py:993: DataConversionWarning:\n",
            "\n",
            "A column-vector y was passed when a 1d array was expected. Please change the shape of y to (n_samples, ), for example using ravel().\n",
            "\n"
          ]
        },
        {
          "output_type": "display_data",
          "data": {
            "text/plain": [
              "<Figure size 432x288 with 1 Axes>"
            ],
            "image/png": "[encoded data removed]"
          },
          "metadata": {
            "needs_background": "light"
          }
        }
      ]
    },
    {
      "cell_type": "code",
      "source": [
        "# 3D polynomial regression\n",
        "x = 7 * np.random.rand(100, 1) - 2.8\n",
        "y = 7 * np.random.rand(100, 1) - 2.8\n",
        "\n",
        "z = x**2 + y**2 + 0.2*x + 0.2*y + 0.1*x*y +2 + np.random.randn(100, 1)\n",
        "# z = x^2 + y^2 + 0.2x + 0.2y + 0.1xy + 2"
      ],
      "metadata": {
        "id": "dW-urkcs_edQ"
      },
      "execution_count": 59,
      "outputs": []
    },
    {
      "cell_type": "code",
      "source": [
        "import plotly.express as px\n",
        "df = px.data.iris()\n",
        "fig = px.scatter_3d(df, x=x.ravel(), y=y.ravel(), z=z.ravel())\n",
        "fig.show()"
      ],
      "metadata": {
        "colab": {
          "base_uri": "https://localhost:8080/",
          "height": 542
        },
        "id": "LVtCs7Z5_hSU",
        "outputId": "ee5f03fe-9da1-4ed9-8e54-080194bf0b29"
      },
      "execution_count": 60,
      "outputs": [
        {
          "output_type": "display_data",
          "data": {
            "text/html": [
              "<html>\n",
              "<head><meta charset=\"utf-8\" /></head>\n",
              "<body>\n",
              "    <div>            <script src=\"https://cdnjs.cloudflare.com/ajax/libs/mathjax/2.7.5/MathJax.js?config=TeX-AMS-MML_SVG\"></script><script type=\"text/javascript\">if (window.MathJax) {MathJax.Hub.Config({SVG: {font: \"STIX-Web\"}});}</script>                <script type=\"text/javascript\">window.PlotlyConfig = {MathJaxConfig: 'local'};</script>\n",
              "        <script src=\"https://cdn.plot.ly/plotly-2.8.3.min.js\"></script>                <div id=\"47c996b3-a7a8-423d-94b5-c8b98b086177\" class=\"plotly-graph-div\" style=\"height:525px; width:100%;\"></div>            <script type=\"text/javascript\">                                    window.PLOTLYENV=window.PLOTLYENV || {};                                    if (document.getElementById(\"47c996b3-a7a8-423d-94b5-c8b98b086177\")) {                    Plotly.newPlot(                        \"47c996b3-a7a8-423d-94b5-c8b98b086177\",                        [{\"hovertemplate\":\"x=%{x}<br>y=%{y}<br>z=%{z}<extra></extra>\",\"legendgroup\":\"\",\"marker\":{\"color\":\"#636efa\",\"symbol\":\"circle\"},\"mode\":\"markers\",\"name\":\"\",\"scene\":\"scene\",\"showlegend\":false,\"x\":[3.730653162469733,3.1780335318259425,1.4754964435501394,-2.614818593749643,3.6850669637830693,3.8624804261850114,4.145871158902976,0.7392532241929706,-1.9216175813740817,0.02950474694586891,4.040422234391536,2.7882287572660385,0.11581600513558676,4.026017106607344,2.284480055232433,-2.2106966253936866,2.6957158668691115,1.4720624488408038,0.8886189262487543,2.4365810090780116,-0.9206541881295096,3.7674035894187243,1.364094361055411,3.6362412812353764,3.6369079416970465,2.3665462657877523,0.0660305533859793,-1.7775845962137025,1.0433931310656055,-1.2536391721716367,0.03042060750507991,-2.301875897004261,-1.339466901532277,0.7762338742022035,2.829696207802302,-1.743867271423386,-2.0481060023118776,2.244533861710427,1.8673802177628387,2.2082723674264138,1.933563632026627,3.946288023664752,2.9123934794757576,-0.2136014426638888,0.9464590611338952,-0.6058994025314441,2.4553161227157974,4.058044941839646,1.6348899580539618,1.2553518194707403,1.5115255955686502,-1.1117554309343276,-0.34458369960628055,4.126709625715983,-1.8143536826127016,-2.0696747620400826,2.2568324747433417,-0.8546566224728003,-2.0100077182424463,3.0553274354134494,-0.44200887332946515,1.922227441618312,-0.314256188402656,0.1616494256382892,1.9841394802368377,1.4285492403989428,0.8299677008339152,-2.194137601735213,-1.3274654718978658,-0.25547433964934774,-0.022198357849793737,-2.662287202223773,3.9634339874175524,0.26044143743094583,-1.8450489504602738,1.024147067509297,3.4887973648620125,-1.8602023641184489,-0.829841112081833,1.3408107339801507,0.1571705566873054,0.5219582449986215,1.699502144635793,0.9302623639500975,-0.8601411392954943,4.167308705900933,3.8414625815152164,-0.47466726810581594,1.178697783118257,-2.503827047629071,2.8839884621032246,-1.9052102432601397,1.6169708674437153,3.5303567817412818,3.6361725153868054,2.5240023275789136,1.08194168224782,-0.7121242757691357,2.7041924360039333,1.6835990280937398],\"y\":[-1.4231124170718936,-0.6344913679569015,-1.0000595276708966,-0.5622462935797756,-1.4412084550160982,-2.580718904044933,-1.9746193724859133,0.5983882382139702,-1.8843269846741526,0.833692875817182,-1.6252555870396317,1.1102407125302416,-1.8389459807831283,0.9817023717633542,4.148656633418001,-2.3888510487288315,2.7463177769878673,2.3376824060999946,-0.33161013303918896,0.11198807027520985,1.9982936071403765,3.523799776421245,-0.11773510224340544,3.940493522091135,0.571951173873972,-0.2793881672310805,3.670240948948556,1.4857665169162209,3.374254752449226,-1.6720637700423855,3.8327891898468343,-0.2833217854666117,-0.5576603381510421,-0.4695017243641204,-0.19918611761349858,-2.5892331703058806,-0.25193435610495607,1.7137535919120754,1.9238831434430583,1.4822398057482475,2.2898490855442617,4.1345404531412555,-2.312978185514904,-0.41107452747103057,1.6995279641958723,-1.0067547125397334,3.915239134786562,1.8133854641864824,-0.5792131376824314,-1.753604453457963,2.087591282590772,-1.1778039896698669,-0.29164685093912945,1.0396630524606194,-1.1085338180716486,0.7093895585422927,-2.503174623516346,-0.4526294890072844,4.0379387855371265,1.4140142955095882,-1.6653585550380727,3.4673363458111277,1.481604488871782,3.6494202801879174,-2.6145533508392607,-0.27911186751709494,2.9031634194388607,-0.9254972242487431,2.5550268512571765,1.4721497000080639,1.4632072333640265,2.8157377576018083,-1.5457101053192162,-2.0095729051519435,4.016072499657921,-2.3623366209482195,2.5690666252844343,3.0615205341403176,-0.36788036537916824,-2.074265769825204,0.44536337051953145,-0.8039635698365424,1.5329489836623251,-2.6597211077278917,2.7808907153340616,0.5527110205526862,1.1000423625619136,-2.558665481624177,0.16816252955964295,1.7025656170419508,-1.3392400613187592,2.992147052199586,2.894443625237158,-1.6093315874873282,-2.5930209430415596,3.3639837278007354,0.532262913517723,3.306470322685869,-2.7332176200452674,2.7336579772878453],\"z\":[17.522172608950317,13.923260679605056,5.053069515345612,6.664181659470154,17.686097164955516,21.26274855392636,21.479044191800494,3.8863046247718036,8.828891750411977,2.7576895140279913,20.665503337471655,12.853370638266725,4.289840614628124,20.000900918863728,26.855435493267088,12.105443409599719,18.909188604875936,9.938196020801245,4.22559573007147,8.578868269616537,6.409529441761346,31.204474472736365,3.749738150914061,32.274610015801564,18.208544222305274,8.64963581384228,16.69086541084199,7.870008922673401,16.701930728408183,6.665419839697956,18.788822753792644,8.889537846120852,3.1577090115706907,2.0774188446440296,8.549923543095176,12.450621896181719,7.012956422626512,9.8291660138676,10.564439326576915,10.322101752707102,12.240037768684319,38.25796682066988,15.002645207683074,1.4038912074014358,7.532680433425009,2.338234220670121,25.46901631498102,22.16847868319521,5.901447503801924,6.963851890806613,8.13118847037531,3.8833512277146296,2.8316496828125524,22.57356700317286,4.6416560125452,7.5171874513555625,12.957604641458422,2.6118295596417336,21.213428303862305,14.300769155366737,4.389966339769922,20.42989087279134,5.01224708467907,16.685305776241396,13.44432513686169,5.085413653986127,11.185411739694054,7.607012663662375,8.808557291725595,3.2684888855715553,4.346031500549435,14.615291984206976,20.544524703579793,6.487617701338226,22.116394601006963,9.185071881018184,24.200134556838982,15.404194266577852,3.35240232486437,8.017115431820844,1.67096528344083,3.0593965691877947,8.817587287146686,9.669181115459756,11.661853911469503,19.841306211003474,20.416620211489498,7.953856527910195,4.4260880712309145,11.1628919709878,11.037052905496168,13.63817097129757,14.967145215035062,16.85848422058174,20.902590844931048,20.811022483754254,5.86640195187453,15.078164949943059,15.052170801491071,13.939926947071886],\"type\":\"scatter3d\"}],                        {\"template\":{\"data\":{\"bar\":[{\"error_x\":{\"color\":\"#2a3f5f\"},\"error_y\":{\"color\":\"#2a3f5f\"},\"marker\":{\"line\":{\"color\":\"#E5ECF6\",\"width\":0.5},\"pattern\":{\"fillmode\":\"overlay\",\"size\":10,\"solidity\":0.2}},\"type\":\"bar\"}],\"barpolar\":[{\"marker\":{\"line\":{\"color\":\"#E5ECF6\",\"width\":0.5},\"pattern\":{\"fillmode\":\"overlay\",\"size\":10,\"solidity\":0.2}},\"type\":\"barpolar\"}],\"carpet\":[{\"aaxis\":{\"endlinecolor\":\"#2a3f5f\",\"gridcolor\":\"white\",\"linecolor\":\"white\",\"minorgridcolor\":\"white\",\"startlinecolor\":\"#2a3f5f\"},\"baxis\":{\"endlinecolor\":\"#2a3f5f\",\"gridcolor\":\"white\",\"linecolor\":\"white\",\"minorgridcolor\":\"white\",\"startlinecolor\":\"#2a3f5f\"},\"type\":\"carpet\"}],\"choropleth\":[{\"colorbar\":{\"outlinewidth\":0,\"ticks\":\"\"},\"type\":\"choropleth\"}],\"contour\":[{\"colorbar\":{\"outlinewidth\":0,\"ticks\":\"\"},\"colorscale\":[[0.0,\"#0d0887\"],[0.1111111111111111,\"#46039f\"],[0.2222222222222222,\"#7201a8\"],[0.3333333333333333,\"#9c179e\"],[0.4444444444444444,\"#bd3786\"],[0.5555555555555556,\"#d8576b\"],[0.6666666666666666,\"#ed7953\"],[0.7777777777777778,\"#fb9f3a\"],[0.8888888888888888,\"#fdca26\"],[1.0,\"#f0f921\"]],\"type\":\"contour\"}],\"contourcarpet\":[{\"colorbar\":{\"outlinewidth\":0,\"ticks\":\"\"},\"type\":\"contourcarpet\"}],\"heatmap\":[{\"colorbar\":{\"outlinewidth\":0,\"ticks\":\"\"},\"colorscale\":[[0.0,\"#0d0887\"],[0.1111111111111111,\"#46039f\"],[0.2222222222222222,\"#7201a8\"],[0.3333333333333333,\"#9c179e\"],[0.4444444444444444,\"#bd3786\"],[0.5555555555555556,\"#d8576b\"],[0.6666666666666666,\"#ed7953\"],[0.7777777777777778,\"#fb9f3a\"],[0.8888888888888888,\"#fdca26\"],[1.0,\"#f0f921\"]],\"type\":\"heatmap\"}],\"heatmapgl\":[{\"colorbar\":{\"outlinewidth\":0,\"ticks\":\"\"},\"colorscale\":[[0.0,\"#0d0887\"],[0.1111111111111111,\"#46039f\"],[0.2222222222222222,\"#7201a8\"],[0.3333333333333333,\"#9c179e\"],[0.4444444444444444,\"#bd3786\"],[0.5555555555555556,\"#d8576b\"],[0.6666666666666666,\"#ed7953\"],[0.7777777777777778,\"#fb9f3a\"],[0.8888888888888888,\"#fdca26\"],[1.0,\"#f0f921\"]],\"type\":\"heatmapgl\"}],\"histogram\":[{\"marker\":{\"pattern\":{\"fillmode\":\"overlay\",\"size\":10,\"solidity\":0.2}},\"type\":\"histogram\"}],\"histogram2d\":[{\"colorbar\":{\"outlinewidth\":0,\"ticks\":\"\"},\"colorscale\":[[0.0,\"#0d0887\"],[0.1111111111111111,\"#46039f\"],[0.2222222222222222,\"#7201a8\"],[0.3333333333333333,\"#9c179e\"],[0.4444444444444444,\"#bd3786\"],[0.5555555555555556,\"#d8576b\"],[0.6666666666666666,\"#ed7953\"],[0.7777777777777778,\"#fb9f3a\"],[0.8888888888888888,\"#fdca26\"],[1.0,\"#f0f921\"]],\"type\":\"histogram2d\"}],\"histogram2dcontour\":[{\"colorbar\":{\"outlinewidth\":0,\"ticks\":\"\"},\"colorscale\":[[0.0,\"#0d0887\"],[0.1111111111111111,\"#46039f\"],[0.2222222222222222,\"#7201a8\"],[0.3333333333333333,\"#9c179e\"],[0.4444444444444444,\"#bd3786\"],[0.5555555555555556,\"#d8576b\"],[0.6666666666666666,\"#ed7953\"],[0.7777777777777778,\"#fb9f3a\"],[0.8888888888888888,\"#fdca26\"],[1.0,\"#f0f921\"]],\"type\":\"histogram2dcontour\"}],\"mesh3d\":[{\"colorbar\":{\"outlinewidth\":0,\"ticks\":\"\"},\"type\":\"mesh3d\"}],\"parcoords\":[{\"line\":{\"colorbar\":{\"outlinewidth\":0,\"ticks\":\"\"}},\"type\":\"parcoords\"}],\"pie\":[{\"automargin\":true,\"type\":\"pie\"}],\"scatter\":[{\"marker\":{\"colorbar\":{\"outlinewidth\":0,\"ticks\":\"\"}},\"type\":\"scatter\"}],\"scatter3d\":[{\"line\":{\"colorbar\":{\"outlinewidth\":0,\"ticks\":\"\"}},\"marker\":{\"colorbar\":{\"outlinewidth\":0,\"ticks\":\"\"}},\"type\":\"scatter3d\"}],\"scattercarpet\":[{\"marker\":{\"colorbar\":{\"outlinewidth\":0,\"ticks\":\"\"}},\"type\":\"scattercarpet\"}],\"scattergeo\":[{\"marker\":{\"colorbar\":{\"outlinewidth\":0,\"ticks\":\"\"}},\"type\":\"scattergeo\"}],\"scattergl\":[{\"marker\":{\"colorbar\":{\"outlinewidth\":0,\"ticks\":\"\"}},\"type\":\"scattergl\"}],\"scattermapbox\":[{\"marker\":{\"colorbar\":{\"outlinewidth\":0,\"ticks\":\"\"}},\"type\":\"scattermapbox\"}],\"scatterpolar\":[{\"marker\":{\"colorbar\":{\"outlinewidth\":0,\"ticks\":\"\"}},\"type\":\"scatterpolar\"}],\"scatterpolargl\":[{\"marker\":{\"colorbar\":{\"outlinewidth\":0,\"ticks\":\"\"}},\"type\":\"scatterpolargl\"}],\"scatterternary\":[{\"marker\":{\"colorbar\":{\"outlinewidth\":0,\"ticks\":\"\"}},\"type\":\"scatterternary\"}],\"surface\":[{\"colorbar\":{\"outlinewidth\":0,\"ticks\":\"\"},\"colorscale\":[[0.0,\"#0d0887\"],[0.1111111111111111,\"#46039f\"],[0.2222222222222222,\"#7201a8\"],[0.3333333333333333,\"#9c179e\"],[0.4444444444444444,\"#bd3786\"],[0.5555555555555556,\"#d8576b\"],[0.6666666666666666,\"#ed7953\"],[0.7777777777777778,\"#fb9f3a\"],[0.8888888888888888,\"#fdca26\"],[1.0,\"#f0f921\"]],\"type\":\"surface\"}],\"table\":[{\"cells\":{\"fill\":{\"color\":\"#EBF0F8\"},\"line\":{\"color\":\"white\"}},\"header\":{\"fill\":{\"color\":\"#C8D4E3\"},\"line\":{\"color\":\"white\"}},\"type\":\"table\"}]},\"layout\":{\"annotationdefaults\":{\"arrowcolor\":\"#2a3f5f\",\"arrowhead\":0,\"arrowwidth\":1},\"autotypenumbers\":\"strict\",\"coloraxis\":{\"colorbar\":{\"outlinewidth\":0,\"ticks\":\"\"}},\"colorscale\":{\"diverging\":[[0,\"#8e0152\"],[0.1,\"#c51b7d\"],[0.2,\"#de77ae\"],[0.3,\"#f1b6da\"],[0.4,\"#fde0ef\"],[0.5,\"#f7f7f7\"],[0.6,\"#e6f5d0\"],[0.7,\"#b8e186\"],[0.8,\"#7fbc41\"],[0.9,\"#4d9221\"],[1,\"#276419\"]],\"sequential\":[[0.0,\"#0d0887\"],[0.1111111111111111,\"#46039f\"],[0.2222222222222222,\"#7201a8\"],[0.3333333333333333,\"#9c179e\"],[0.4444444444444444,\"#bd3786\"],[0.5555555555555556,\"#d8576b\"],[0.6666666666666666,\"#ed7953\"],[0.7777777777777778,\"#fb9f3a\"],[0.8888888888888888,\"#fdca26\"],[1.0,\"#f0f921\"]],\"sequentialminus\":[[0.0,\"#0d0887\"],[0.1111111111111111,\"#46039f\"],[0.2222222222222222,\"#7201a8\"],[0.3333333333333333,\"#9c179e\"],[0.4444444444444444,\"#bd3786\"],[0.5555555555555556,\"#d8576b\"],[0.6666666666666666,\"#ed7953\"],[0.7777777777777778,\"#fb9f3a\"],[0.8888888888888888,\"#fdca26\"],[1.0,\"#f0f921\"]]},\"colorway\":[\"#636efa\",\"#EF553B\",\"#00cc96\",\"#ab63fa\",\"#FFA15A\",\"#19d3f3\",\"#FF6692\",\"#B6E880\",\"#FF97FF\",\"#FECB52\"],\"font\":{\"color\":\"#2a3f5f\"},\"geo\":{\"bgcolor\":\"white\",\"lakecolor\":\"white\",\"landcolor\":\"#E5ECF6\",\"showlakes\":true,\"showland\":true,\"subunitcolor\":\"white\"},\"hoverlabel\":{\"align\":\"left\"},\"hovermode\":\"closest\",\"mapbox\":{\"style\":\"light\"},\"paper_bgcolor\":\"white\",\"plot_bgcolor\":\"#E5ECF6\",\"polar\":{\"angularaxis\":{\"gridcolor\":\"white\",\"linecolor\":\"white\",\"ticks\":\"\"},\"bgcolor\":\"#E5ECF6\",\"radialaxis\":{\"gridcolor\":\"white\",\"linecolor\":\"white\",\"ticks\":\"\"}},\"scene\":{\"xaxis\":{\"backgroundcolor\":\"#E5ECF6\",\"gridcolor\":\"white\",\"gridwidth\":2,\"linecolor\":\"white\",\"showbackground\":true,\"ticks\":\"\",\"zerolinecolor\":\"white\"},\"yaxis\":{\"backgroundcolor\":\"#E5ECF6\",\"gridcolor\":\"white\",\"gridwidth\":2,\"linecolor\":\"white\",\"showbackground\":true,\"ticks\":\"\",\"zerolinecolor\":\"white\"},\"zaxis\":{\"backgroundcolor\":\"#E5ECF6\",\"gridcolor\":\"white\",\"gridwidth\":2,\"linecolor\":\"white\",\"showbackground\":true,\"ticks\":\"\",\"zerolinecolor\":\"white\"}},\"shapedefaults\":{\"line\":{\"color\":\"#2a3f5f\"}},\"ternary\":{\"aaxis\":{\"gridcolor\":\"white\",\"linecolor\":\"white\",\"ticks\":\"\"},\"baxis\":{\"gridcolor\":\"white\",\"linecolor\":\"white\",\"ticks\":\"\"},\"bgcolor\":\"#E5ECF6\",\"caxis\":{\"gridcolor\":\"white\",\"linecolor\":\"white\",\"ticks\":\"\"}},\"title\":{\"x\":0.05},\"xaxis\":{\"automargin\":true,\"gridcolor\":\"white\",\"linecolor\":\"white\",\"ticks\":\"\",\"title\":{\"standoff\":15},\"zerolinecolor\":\"white\",\"zerolinewidth\":2},\"yaxis\":{\"automargin\":true,\"gridcolor\":\"white\",\"linecolor\":\"white\",\"ticks\":\"\",\"title\":{\"standoff\":15},\"zerolinecolor\":\"white\",\"zerolinewidth\":2}}},\"scene\":{\"domain\":{\"x\":[0.0,1.0],\"y\":[0.0,1.0]},\"xaxis\":{\"title\":{\"text\":\"x\"}},\"yaxis\":{\"title\":{\"text\":\"y\"}},\"zaxis\":{\"title\":{\"text\":\"z\"}}},\"legend\":{\"tracegroupgap\":0},\"margin\":{\"t\":60}},                        {\"responsive\": true}                    ).then(function(){\n",
              "                            \n",
              "var gd = document.getElementById('47c996b3-a7a8-423d-94b5-c8b98b086177');\n",
              "var x = new MutationObserver(function (mutations, observer) {{\n",
              "        var display = window.getComputedStyle(gd).display;\n",
              "        if (!display || display === 'none') {{\n",
              "            console.log([gd, 'removed!']);\n",
              "            Plotly.purge(gd);\n",
              "            observer.disconnect();\n",
              "        }}\n",
              "}});\n",
              "\n",
              "// Listen for the removal of the full notebook cells\n",
              "var notebookContainer = gd.closest('#notebook-container');\n",
              "if (notebookContainer) {{\n",
              "    x.observe(notebookContainer, {childList: true});\n",
              "}}\n",
              "\n",
              "// Listen for the clearing of the current output cell\n",
              "var outputEl = gd.closest('.output');\n",
              "if (outputEl) {{\n",
              "    x.observe(outputEl, {childList: true});\n",
              "}}\n",
              "\n",
              "                        })                };                            </script>        </div>\n",
              "</body>\n",
              "</html>"
            ]
          },
          "metadata": {}
        }
      ]
    },
    {
      "cell_type": "code",
      "source": [
        "lr = LinearRegression()\n",
        "lr.fit(np.array([x,y]).reshape(100,2),z)\n",
        "\n",
        "x_input = np.linspace(x.min(), x.max(), 10)\n",
        "y_input = np.linspace(y.min(), y.max(), 10)\n",
        "xGrid, yGrid = np.meshgrid(x_input,y_input)\n",
        "\n",
        "final = np.vstack((xGrid.ravel().reshape(1,100),yGrid.ravel().reshape(1,100))).T\n",
        "\n",
        "z_final = lr.predict(final).reshape(10,10)"
      ],
      "metadata": {
        "id": "Ts52oS4e_isx"
      },
      "execution_count": 61,
      "outputs": []
    },
    {
      "cell_type": "code",
      "source": [
        "import plotly.graph_objects as go\n",
        "\n",
        "fig = px.scatter_3d(df, x=x.ravel(), y=y.ravel(), z=z.ravel())\n",
        "\n",
        "fig.add_trace(go.Surface(x = x_input, y = y_input, z =z_final ))\n",
        "\n",
        "fig.show()"
      ],
      "metadata": {
        "colab": {
          "base_uri": "https://localhost:8080/",
          "height": 542
        },
        "id": "OPB5gOwH_kty",
        "outputId": "5ff3e763-1dcf-4b75-a502-27b81b649f23"
      },
      "execution_count": 62,
      "outputs": [
        {
          "output_type": "display_data",
          "data": {
            "text/html": [
              "<html>\n",
              "<head><meta charset=\"utf-8\" /></head>\n",
              "<body>\n",
              "    <div>            <script src=\"https://cdnjs.cloudflare.com/ajax/libs/mathjax/2.7.5/MathJax.js?config=TeX-AMS-MML_SVG\"></script><script type=\"text/javascript\">if (window.MathJax) {MathJax.Hub.Config({SVG: {font: \"STIX-Web\"}});}</script>                <script type=\"text/javascript\">window.PlotlyConfig = {MathJaxConfig: 'local'};</script>\n",
              "        <script src=\"https://cdn.plot.ly/plotly-2.8.3.min.js\"></script>                <div id=\"0b7b9620-731f-4932-a403-deafeda94ee1\" class=\"plotly-graph-div\" style=\"height:525px; width:100%;\"></div>            <script type=\"text/javascript\">                                    window.PLOTLYENV=window.PLOTLYENV || {};                                    if (document.getElementById(\"0b7b9620-731f-4932-a403-deafeda94ee1\")) {                    Plotly.newPlot(                        \"0b7b9620-731f-4932-a403-deafeda94ee1\",                        [{\"hovertemplate\":\"x=%{x}<br>y=%{y}<br>z=%{z}<extra></extra>\",\"legendgroup\":\"\",\"marker\":{\"color\":\"#636efa\",\"symbol\":\"circle\"},\"mode\":\"markers\",\"name\":\"\",\"scene\":\"scene\",\"showlegend\":false,\"x\":[3.730653162469733,3.1780335318259425,1.4754964435501394,-2.614818593749643,3.6850669637830693,3.8624804261850114,4.145871158902976,0.7392532241929706,-1.9216175813740817,0.02950474694586891,4.040422234391536,2.7882287572660385,0.11581600513558676,4.026017106607344,2.284480055232433,-2.2106966253936866,2.6957158668691115,1.4720624488408038,0.8886189262487543,2.4365810090780116,-0.9206541881295096,3.7674035894187243,1.364094361055411,3.6362412812353764,3.6369079416970465,2.3665462657877523,0.0660305533859793,-1.7775845962137025,1.0433931310656055,-1.2536391721716367,0.03042060750507991,-2.301875897004261,-1.339466901532277,0.7762338742022035,2.829696207802302,-1.743867271423386,-2.0481060023118776,2.244533861710427,1.8673802177628387,2.2082723674264138,1.933563632026627,3.946288023664752,2.9123934794757576,-0.2136014426638888,0.9464590611338952,-0.6058994025314441,2.4553161227157974,4.058044941839646,1.6348899580539618,1.2553518194707403,1.5115255955686502,-1.1117554309343276,-0.34458369960628055,4.126709625715983,-1.8143536826127016,-2.0696747620400826,2.2568324747433417,-0.8546566224728003,-2.0100077182424463,3.0553274354134494,-0.44200887332946515,1.922227441618312,-0.314256188402656,0.1616494256382892,1.9841394802368377,1.4285492403989428,0.8299677008339152,-2.194137601735213,-1.3274654718978658,-0.25547433964934774,-0.022198357849793737,-2.662287202223773,3.9634339874175524,0.26044143743094583,-1.8450489504602738,1.024147067509297,3.4887973648620125,-1.8602023641184489,-0.829841112081833,1.3408107339801507,0.1571705566873054,0.5219582449986215,1.699502144635793,0.9302623639500975,-0.8601411392954943,4.167308705900933,3.8414625815152164,-0.47466726810581594,1.178697783118257,-2.503827047629071,2.8839884621032246,-1.9052102432601397,1.6169708674437153,3.5303567817412818,3.6361725153868054,2.5240023275789136,1.08194168224782,-0.7121242757691357,2.7041924360039333,1.6835990280937398],\"y\":[-1.4231124170718936,-0.6344913679569015,-1.0000595276708966,-0.5622462935797756,-1.4412084550160982,-2.580718904044933,-1.9746193724859133,0.5983882382139702,-1.8843269846741526,0.833692875817182,-1.6252555870396317,1.1102407125302416,-1.8389459807831283,0.9817023717633542,4.148656633418001,-2.3888510487288315,2.7463177769878673,2.3376824060999946,-0.33161013303918896,0.11198807027520985,1.9982936071403765,3.523799776421245,-0.11773510224340544,3.940493522091135,0.571951173873972,-0.2793881672310805,3.670240948948556,1.4857665169162209,3.374254752449226,-1.6720637700423855,3.8327891898468343,-0.2833217854666117,-0.5576603381510421,-0.4695017243641204,-0.19918611761349858,-2.5892331703058806,-0.25193435610495607,1.7137535919120754,1.9238831434430583,1.4822398057482475,2.2898490855442617,4.1345404531412555,-2.312978185514904,-0.41107452747103057,1.6995279641958723,-1.0067547125397334,3.915239134786562,1.8133854641864824,-0.5792131376824314,-1.753604453457963,2.087591282590772,-1.1778039896698669,-0.29164685093912945,1.0396630524606194,-1.1085338180716486,0.7093895585422927,-2.503174623516346,-0.4526294890072844,4.0379387855371265,1.4140142955095882,-1.6653585550380727,3.4673363458111277,1.481604488871782,3.6494202801879174,-2.6145533508392607,-0.27911186751709494,2.9031634194388607,-0.9254972242487431,2.5550268512571765,1.4721497000080639,1.4632072333640265,2.8157377576018083,-1.5457101053192162,-2.0095729051519435,4.016072499657921,-2.3623366209482195,2.5690666252844343,3.0615205341403176,-0.36788036537916824,-2.074265769825204,0.44536337051953145,-0.8039635698365424,1.5329489836623251,-2.6597211077278917,2.7808907153340616,0.5527110205526862,1.1000423625619136,-2.558665481624177,0.16816252955964295,1.7025656170419508,-1.3392400613187592,2.992147052199586,2.894443625237158,-1.6093315874873282,-2.5930209430415596,3.3639837278007354,0.532262913517723,3.306470322685869,-2.7332176200452674,2.7336579772878453],\"z\":[17.522172608950317,13.923260679605056,5.053069515345612,6.664181659470154,17.686097164955516,21.26274855392636,21.479044191800494,3.8863046247718036,8.828891750411977,2.7576895140279913,20.665503337471655,12.853370638266725,4.289840614628124,20.000900918863728,26.855435493267088,12.105443409599719,18.909188604875936,9.938196020801245,4.22559573007147,8.578868269616537,6.409529441761346,31.204474472736365,3.749738150914061,32.274610015801564,18.208544222305274,8.64963581384228,16.69086541084199,7.870008922673401,16.701930728408183,6.665419839697956,18.788822753792644,8.889537846120852,3.1577090115706907,2.0774188446440296,8.549923543095176,12.450621896181719,7.012956422626512,9.8291660138676,10.564439326576915,10.322101752707102,12.240037768684319,38.25796682066988,15.002645207683074,1.4038912074014358,7.532680433425009,2.338234220670121,25.46901631498102,22.16847868319521,5.901447503801924,6.963851890806613,8.13118847037531,3.8833512277146296,2.8316496828125524,22.57356700317286,4.6416560125452,7.5171874513555625,12.957604641458422,2.6118295596417336,21.213428303862305,14.300769155366737,4.389966339769922,20.42989087279134,5.01224708467907,16.685305776241396,13.44432513686169,5.085413653986127,11.185411739694054,7.607012663662375,8.808557291725595,3.2684888855715553,4.346031500549435,14.615291984206976,20.544524703579793,6.487617701338226,22.116394601006963,9.185071881018184,24.200134556838982,15.404194266577852,3.35240232486437,8.017115431820844,1.67096528344083,3.0593965691877947,8.817587287146686,9.669181115459756,11.661853911469503,19.841306211003474,20.416620211489498,7.953856527910195,4.4260880712309145,11.1628919709878,11.037052905496168,13.63817097129757,14.967145215035062,16.85848422058174,20.902590844931048,20.811022483754254,5.86640195187453,15.078164949943059,15.052170801491071,13.939926947071886],\"type\":\"scatter3d\"},{\"x\":[-2.662287202223773,-1.903443212432139,-1.144599222640505,-0.38575523284887137,0.3730887569427628,1.131932746734397,1.8907767365260302,2.6496207263176643,3.4084647161092985,4.167308705900933],\"y\":[-2.7332176200452674,-1.9685649252160153,-1.2039122303867633,-0.43925953555751107,0.32539315927174073,1.0900458541009925,1.8546985489302452,2.619351243759497,3.384003938588749,4.148656633418001],\"z\":[[11.023838574408195,10.826727203731046,10.629615833053897,10.43250446237675,10.235393091699601,10.038281721022454,9.841170350345305,9.644058979668156,9.446947608991008,9.24983623831386],[11.467803055955663,11.270691685278514,11.073580314601365,10.876468943924218,10.679357573247069,10.482246202569922,10.285134831892773,10.088023461215624,9.890912090538476,9.693800719861327],[11.911767537503131,11.714656166825982,11.517544796148833,11.320433425471686,11.123322054794537,10.92621068411739,10.72909931344024,10.531987942763092,10.334876572085944,10.137765201408795],[12.355732019050599,12.15862064837345,11.961509277696301,11.764397907019154,11.567286536342005,11.370175165664858,11.173063794987709,10.97595242431056,10.778841053633412,10.581729682956263],[12.799696500598067,12.602585129920918,12.405473759243769,12.208362388566622,12.011251017889473,11.814139647212324,11.617028276535176,11.419916905858027,11.22280553518088,11.025694164503731],[13.243660982145533,13.046549611468386,12.849438240791237,12.65232687011409,12.45521549943694,12.258104128759792,12.060992758082644,11.863881387405495,11.666770016728348,11.4696586460512],[13.687625463693003,13.490514093015854,13.293402722338705,13.096291351661558,12.899179980984409,12.702068610307261,12.504957239630112,12.307845868952963,12.110734498275816,11.913623127598667],[14.13158994524047,13.934478574563322,13.737367203886173,13.540255833209025,13.343144462531876,13.14603309185473,12.94892172117758,12.751810350500431,12.554698979823284,12.357587609146135],[14.575554426787939,14.37844305611079,14.18133168543364,13.984220314756493,13.787108944079344,13.589997573402197,13.392886202725048,13.1957748320479,12.998663461370752,12.801552090693603],[15.019518908335407,14.822407537658258,14.625296166981109,14.42818479630396,14.231073425626812,14.033962054949663,13.836850684272516,13.639739313595367,13.442627942918218,13.24551657224107]],\"type\":\"surface\"}],                        {\"template\":{\"data\":{\"bar\":[{\"error_x\":{\"color\":\"#2a3f5f\"},\"error_y\":{\"color\":\"#2a3f5f\"},\"marker\":{\"line\":{\"color\":\"#E5ECF6\",\"width\":0.5},\"pattern\":{\"fillmode\":\"overlay\",\"size\":10,\"solidity\":0.2}},\"type\":\"bar\"}],\"barpolar\":[{\"marker\":{\"line\":{\"color\":\"#E5ECF6\",\"width\":0.5},\"pattern\":{\"fillmode\":\"overlay\",\"size\":10,\"solidity\":0.2}},\"type\":\"barpolar\"}],\"carpet\":[{\"aaxis\":{\"endlinecolor\":\"#2a3f5f\",\"gridcolor\":\"white\",\"linecolor\":\"white\",\"minorgridcolor\":\"white\",\"startlinecolor\":\"#2a3f5f\"},\"baxis\":{\"endlinecolor\":\"#2a3f5f\",\"gridcolor\":\"white\",\"linecolor\":\"white\",\"minorgridcolor\":\"white\",\"startlinecolor\":\"#2a3f5f\"},\"type\":\"carpet\"}],\"choropleth\":[{\"colorbar\":{\"outlinewidth\":0,\"ticks\":\"\"},\"type\":\"choropleth\"}],\"contour\":[{\"colorbar\":{\"outlinewidth\":0,\"ticks\":\"\"},\"colorscale\":[[0.0,\"#0d0887\"],[0.1111111111111111,\"#46039f\"],[0.2222222222222222,\"#7201a8\"],[0.3333333333333333,\"#9c179e\"],[0.4444444444444444,\"#bd3786\"],[0.5555555555555556,\"#d8576b\"],[0.6666666666666666,\"#ed7953\"],[0.7777777777777778,\"#fb9f3a\"],[0.8888888888888888,\"#fdca26\"],[1.0,\"#f0f921\"]],\"type\":\"contour\"}],\"contourcarpet\":[{\"colorbar\":{\"outlinewidth\":0,\"ticks\":\"\"},\"type\":\"contourcarpet\"}],\"heatmap\":[{\"colorbar\":{\"outlinewidth\":0,\"ticks\":\"\"},\"colorscale\":[[0.0,\"#0d0887\"],[0.1111111111111111,\"#46039f\"],[0.2222222222222222,\"#7201a8\"],[0.3333333333333333,\"#9c179e\"],[0.4444444444444444,\"#bd3786\"],[0.5555555555555556,\"#d8576b\"],[0.6666666666666666,\"#ed7953\"],[0.7777777777777778,\"#fb9f3a\"],[0.8888888888888888,\"#fdca26\"],[1.0,\"#f0f921\"]],\"type\":\"heatmap\"}],\"heatmapgl\":[{\"colorbar\":{\"outlinewidth\":0,\"ticks\":\"\"},\"colorscale\":[[0.0,\"#0d0887\"],[0.1111111111111111,\"#46039f\"],[0.2222222222222222,\"#7201a8\"],[0.3333333333333333,\"#9c179e\"],[0.4444444444444444,\"#bd3786\"],[0.5555555555555556,\"#d8576b\"],[0.6666666666666666,\"#ed7953\"],[0.7777777777777778,\"#fb9f3a\"],[0.8888888888888888,\"#fdca26\"],[1.0,\"#f0f921\"]],\"type\":\"heatmapgl\"}],\"histogram\":[{\"marker\":{\"pattern\":{\"fillmode\":\"overlay\",\"size\":10,\"solidity\":0.2}},\"type\":\"histogram\"}],\"histogram2d\":[{\"colorbar\":{\"outlinewidth\":0,\"ticks\":\"\"},\"colorscale\":[[0.0,\"#0d0887\"],[0.1111111111111111,\"#46039f\"],[0.2222222222222222,\"#7201a8\"],[0.3333333333333333,\"#9c179e\"],[0.4444444444444444,\"#bd3786\"],[0.5555555555555556,\"#d8576b\"],[0.6666666666666666,\"#ed7953\"],[0.7777777777777778,\"#fb9f3a\"],[0.8888888888888888,\"#fdca26\"],[1.0,\"#f0f921\"]],\"type\":\"histogram2d\"}],\"histogram2dcontour\":[{\"colorbar\":{\"outlinewidth\":0,\"ticks\":\"\"},\"colorscale\":[[0.0,\"#0d0887\"],[0.1111111111111111,\"#46039f\"],[0.2222222222222222,\"#7201a8\"],[0.3333333333333333,\"#9c179e\"],[0.4444444444444444,\"#bd3786\"],[0.5555555555555556,\"#d8576b\"],[0.6666666666666666,\"#ed7953\"],[0.7777777777777778,\"#fb9f3a\"],[0.8888888888888888,\"#fdca26\"],[1.0,\"#f0f921\"]],\"type\":\"histogram2dcontour\"}],\"mesh3d\":[{\"colorbar\":{\"outlinewidth\":0,\"ticks\":\"\"},\"type\":\"mesh3d\"}],\"parcoords\":[{\"line\":{\"colorbar\":{\"outlinewidth\":0,\"ticks\":\"\"}},\"type\":\"parcoords\"}],\"pie\":[{\"automargin\":true,\"type\":\"pie\"}],\"scatter\":[{\"marker\":{\"colorbar\":{\"outlinewidth\":0,\"ticks\":\"\"}},\"type\":\"scatter\"}],\"scatter3d\":[{\"line\":{\"colorbar\":{\"outlinewidth\":0,\"ticks\":\"\"}},\"marker\":{\"colorbar\":{\"outlinewidth\":0,\"ticks\":\"\"}},\"type\":\"scatter3d\"}],\"scattercarpet\":[{\"marker\":{\"colorbar\":{\"outlinewidth\":0,\"ticks\":\"\"}},\"type\":\"scattercarpet\"}],\"scattergeo\":[{\"marker\":{\"colorbar\":{\"outlinewidth\":0,\"ticks\":\"\"}},\"type\":\"scattergeo\"}],\"scattergl\":[{\"marker\":{\"colorbar\":{\"outlinewidth\":0,\"ticks\":\"\"}},\"type\":\"scattergl\"}],\"scattermapbox\":[{\"marker\":{\"colorbar\":{\"outlinewidth\":0,\"ticks\":\"\"}},\"type\":\"scattermapbox\"}],\"scatterpolar\":[{\"marker\":{\"colorbar\":{\"outlinewidth\":0,\"ticks\":\"\"}},\"type\":\"scatterpolar\"}],\"scatterpolargl\":[{\"marker\":{\"colorbar\":{\"outlinewidth\":0,\"ticks\":\"\"}},\"type\":\"scatterpolargl\"}],\"scatterternary\":[{\"marker\":{\"colorbar\":{\"outlinewidth\":0,\"ticks\":\"\"}},\"type\":\"scatterternary\"}],\"surface\":[{\"colorbar\":{\"outlinewidth\":0,\"ticks\":\"\"},\"colorscale\":[[0.0,\"#0d0887\"],[0.1111111111111111,\"#46039f\"],[0.2222222222222222,\"#7201a8\"],[0.3333333333333333,\"#9c179e\"],[0.4444444444444444,\"#bd3786\"],[0.5555555555555556,\"#d8576b\"],[0.6666666666666666,\"#ed7953\"],[0.7777777777777778,\"#fb9f3a\"],[0.8888888888888888,\"#fdca26\"],[1.0,\"#f0f921\"]],\"type\":\"surface\"}],\"table\":[{\"cells\":{\"fill\":{\"color\":\"#EBF0F8\"},\"line\":{\"color\":\"white\"}},\"header\":{\"fill\":{\"color\":\"#C8D4E3\"},\"line\":{\"color\":\"white\"}},\"type\":\"table\"}]},\"layout\":{\"annotationdefaults\":{\"arrowcolor\":\"#2a3f5f\",\"arrowhead\":0,\"arrowwidth\":1},\"autotypenumbers\":\"strict\",\"coloraxis\":{\"colorbar\":{\"outlinewidth\":0,\"ticks\":\"\"}},\"colorscale\":{\"diverging\":[[0,\"#8e0152\"],[0.1,\"#c51b7d\"],[0.2,\"#de77ae\"],[0.3,\"#f1b6da\"],[0.4,\"#fde0ef\"],[0.5,\"#f7f7f7\"],[0.6,\"#e6f5d0\"],[0.7,\"#b8e186\"],[0.8,\"#7fbc41\"],[0.9,\"#4d9221\"],[1,\"#276419\"]],\"sequential\":[[0.0,\"#0d0887\"],[0.1111111111111111,\"#46039f\"],[0.2222222222222222,\"#7201a8\"],[0.3333333333333333,\"#9c179e\"],[0.4444444444444444,\"#bd3786\"],[0.5555555555555556,\"#d8576b\"],[0.6666666666666666,\"#ed7953\"],[0.7777777777777778,\"#fb9f3a\"],[0.8888888888888888,\"#fdca26\"],[1.0,\"#f0f921\"]],\"sequentialminus\":[[0.0,\"#0d0887\"],[0.1111111111111111,\"#46039f\"],[0.2222222222222222,\"#7201a8\"],[0.3333333333333333,\"#9c179e\"],[0.4444444444444444,\"#bd3786\"],[0.5555555555555556,\"#d8576b\"],[0.6666666666666666,\"#ed7953\"],[0.7777777777777778,\"#fb9f3a\"],[0.8888888888888888,\"#fdca26\"],[1.0,\"#f0f921\"]]},\"colorway\":[\"#636efa\",\"#EF553B\",\"#00cc96\",\"#ab63fa\",\"#FFA15A\",\"#19d3f3\",\"#FF6692\",\"#B6E880\",\"#FF97FF\",\"#FECB52\"],\"font\":{\"color\":\"#2a3f5f\"},\"geo\":{\"bgcolor\":\"white\",\"lakecolor\":\"white\",\"landcolor\":\"#E5ECF6\",\"showlakes\":true,\"showland\":true,\"subunitcolor\":\"white\"},\"hoverlabel\":{\"align\":\"left\"},\"hovermode\":\"closest\",\"mapbox\":{\"style\":\"light\"},\"paper_bgcolor\":\"white\",\"plot_bgcolor\":\"#E5ECF6\",\"polar\":{\"angularaxis\":{\"gridcolor\":\"white\",\"linecolor\":\"white\",\"ticks\":\"\"},\"bgcolor\":\"#E5ECF6\",\"radialaxis\":{\"gridcolor\":\"white\",\"linecolor\":\"white\",\"ticks\":\"\"}},\"scene\":{\"xaxis\":{\"backgroundcolor\":\"#E5ECF6\",\"gridcolor\":\"white\",\"gridwidth\":2,\"linecolor\":\"white\",\"showbackground\":true,\"ticks\":\"\",\"zerolinecolor\":\"white\"},\"yaxis\":{\"backgroundcolor\":\"#E5ECF6\",\"gridcolor\":\"white\",\"gridwidth\":2,\"linecolor\":\"white\",\"showbackground\":true,\"ticks\":\"\",\"zerolinecolor\":\"white\"},\"zaxis\":{\"backgroundcolor\":\"#E5ECF6\",\"gridcolor\":\"white\",\"gridwidth\":2,\"linecolor\":\"white\",\"showbackground\":true,\"ticks\":\"\",\"zerolinecolor\":\"white\"}},\"shapedefaults\":{\"line\":{\"color\":\"#2a3f5f\"}},\"ternary\":{\"aaxis\":{\"gridcolor\":\"white\",\"linecolor\":\"white\",\"ticks\":\"\"},\"baxis\":{\"gridcolor\":\"white\",\"linecolor\":\"white\",\"ticks\":\"\"},\"bgcolor\":\"#E5ECF6\",\"caxis\":{\"gridcolor\":\"white\",\"linecolor\":\"white\",\"ticks\":\"\"}},\"title\":{\"x\":0.05},\"xaxis\":{\"automargin\":true,\"gridcolor\":\"white\",\"linecolor\":\"white\",\"ticks\":\"\",\"title\":{\"standoff\":15},\"zerolinecolor\":\"white\",\"zerolinewidth\":2},\"yaxis\":{\"automargin\":true,\"gridcolor\":\"white\",\"linecolor\":\"white\",\"ticks\":\"\",\"title\":{\"standoff\":15},\"zerolinecolor\":\"white\",\"zerolinewidth\":2}}},\"scene\":{\"domain\":{\"x\":[0.0,1.0],\"y\":[0.0,1.0]},\"xaxis\":{\"title\":{\"text\":\"x\"}},\"yaxis\":{\"title\":{\"text\":\"y\"}},\"zaxis\":{\"title\":{\"text\":\"z\"}}},\"legend\":{\"tracegroupgap\":0},\"margin\":{\"t\":60}},                        {\"responsive\": true}                    ).then(function(){\n",
              "                            \n",
              "var gd = document.getElementById('0b7b9620-731f-4932-a403-deafeda94ee1');\n",
              "var x = new MutationObserver(function (mutations, observer) {{\n",
              "        var display = window.getComputedStyle(gd).display;\n",
              "        if (!display || display === 'none') {{\n",
              "            console.log([gd, 'removed!']);\n",
              "            Plotly.purge(gd);\n",
              "            observer.disconnect();\n",
              "        }}\n",
              "}});\n",
              "\n",
              "// Listen for the removal of the full notebook cells\n",
              "var notebookContainer = gd.closest('#notebook-container');\n",
              "if (notebookContainer) {{\n",
              "    x.observe(notebookContainer, {childList: true});\n",
              "}}\n",
              "\n",
              "// Listen for the clearing of the current output cell\n",
              "var outputEl = gd.closest('.output');\n",
              "if (outputEl) {{\n",
              "    x.observe(outputEl, {childList: true});\n",
              "}}\n",
              "\n",
              "                        })                };                            </script>        </div>\n",
              "</body>\n",
              "</html>"
            ]
          },
          "metadata": {}
        }
      ]
    },
    {
      "cell_type": "code",
      "source": [
        "X_multi = np.array([x,y]).reshape(100,2)\n",
        "X_multi.shape"
      ],
      "metadata": {
        "colab": {
          "base_uri": "https://localhost:8080/"
        },
        "id": "rmDi7pqR_nDM",
        "outputId": "9382e9a4-9c11-4c09-e245-a05d66937760"
      },
      "execution_count": 63,
      "outputs": [
        {
          "output_type": "execute_result",
          "data": {
            "text/plain": [
              "(100, 2)"
            ]
          },
          "metadata": {},
          "execution_count": 63
        }
      ]
    },
    {
      "cell_type": "code",
      "source": [
        "poly = PolynomialFeatures(degree=30)\n",
        "X_multi_trans = poly.fit_transform(X_multi)"
      ],
      "metadata": {
        "id": "5WLIKtDS_ogc"
      },
      "execution_count": 64,
      "outputs": []
    },
    {
      "cell_type": "code",
      "source": [
        "print(\"Input\",poly.n_input_features_)\n",
        "print(\"Ouput\",poly.n_output_features_)\n",
        "print(\"Powers\\n\",poly.powers_)"
      ],
      "metadata": {
        "colab": {
          "base_uri": "https://localhost:8080/"
        },
        "id": "C7kNitmJ_qBu",
        "outputId": "e0b21408-1bf4-41e3-ce2c-018d4f2c6190"
      },
      "execution_count": 65,
      "outputs": [
        {
          "output_type": "stream",
          "name": "stdout",
          "text": [
            "Input 2\n",
            "Ouput 496\n",
            "Powers\n",
            " [[ 0  0]\n",
            " [ 1  0]\n",
            " [ 0  1]\n",
            " [ 2  0]\n",
            " [ 1  1]\n",
            " [ 0  2]\n",
            " [ 3  0]\n",
            " [ 2  1]\n",
            " [ 1  2]\n",
            " [ 0  3]\n",
            " [ 4  0]\n",
            " [ 3  1]\n",
            " [ 2  2]\n",
            " [ 1  3]\n",
            " [ 0  4]\n",
            " [ 5  0]\n",
            " [ 4  1]\n",
            " [ 3  2]\n",
            " [ 2  3]\n",
            " [ 1  4]\n",
            " [ 0  5]\n",
            " [ 6  0]\n",
            " [ 5  1]\n",
            " [ 4  2]\n",
            " [ 3  3]\n",
            " [ 2  4]\n",
            " [ 1  5]\n",
            " [ 0  6]\n",
            " [ 7  0]\n",
            " [ 6  1]\n",
            " [ 5  2]\n",
            " [ 4  3]\n",
            " [ 3  4]\n",
            " [ 2  5]\n",
            " [ 1  6]\n",
            " [ 0  7]\n",
            " [ 8  0]\n",
            " [ 7  1]\n",
            " [ 6  2]\n",
            " [ 5  3]\n",
            " [ 4  4]\n",
            " [ 3  5]\n",
            " [ 2  6]\n",
            " [ 1  7]\n",
            " [ 0  8]\n",
            " [ 9  0]\n",
            " [ 8  1]\n",
            " [ 7  2]\n",
            " [ 6  3]\n",
            " [ 5  4]\n",
            " [ 4  5]\n",
            " [ 3  6]\n",
            " [ 2  7]\n",
            " [ 1  8]\n",
            " [ 0  9]\n",
            " [10  0]\n",
            " [ 9  1]\n",
            " [ 8  2]\n",
            " [ 7  3]\n",
            " [ 6  4]\n",
            " [ 5  5]\n",
            " [ 4  6]\n",
            " [ 3  7]\n",
            " [ 2  8]\n",
            " [ 1  9]\n",
            " [ 0 10]\n",
            " [11  0]\n",
            " [10  1]\n",
            " [ 9  2]\n",
            " [ 8  3]\n",
            " [ 7  4]\n",
            " [ 6  5]\n",
            " [ 5  6]\n",
            " [ 4  7]\n",
            " [ 3  8]\n",
            " [ 2  9]\n",
            " [ 1 10]\n",
            " [ 0 11]\n",
            " [12  0]\n",
            " [11  1]\n",
            " [10  2]\n",
            " [ 9  3]\n",
            " [ 8  4]\n",
            " [ 7  5]\n",
            " [ 6  6]\n",
            " [ 5  7]\n",
            " [ 4  8]\n",
            " [ 3  9]\n",
            " [ 2 10]\n",
            " [ 1 11]\n",
            " [ 0 12]\n",
            " [13  0]\n",
            " [12  1]\n",
            " [11  2]\n",
            " [10  3]\n",
            " [ 9  4]\n",
            " [ 8  5]\n",
            " [ 7  6]\n",
            " [ 6  7]\n",
            " [ 5  8]\n",
            " [ 4  9]\n",
            " [ 3 10]\n",
            " [ 2 11]\n",
            " [ 1 12]\n",
            " [ 0 13]\n",
            " [14  0]\n",
            " [13  1]\n",
            " [12  2]\n",
            " [11  3]\n",
            " [10  4]\n",
            " [ 9  5]\n",
            " [ 8  6]\n",
            " [ 7  7]\n",
            " [ 6  8]\n",
            " [ 5  9]\n",
            " [ 4 10]\n",
            " [ 3 11]\n",
            " [ 2 12]\n",
            " [ 1 13]\n",
            " [ 0 14]\n",
            " [15  0]\n",
            " [14  1]\n",
            " [13  2]\n",
            " [12  3]\n",
            " [11  4]\n",
            " [10  5]\n",
            " [ 9  6]\n",
            " [ 8  7]\n",
            " [ 7  8]\n",
            " [ 6  9]\n",
            " [ 5 10]\n",
            " [ 4 11]\n",
            " [ 3 12]\n",
            " [ 2 13]\n",
            " [ 1 14]\n",
            " [ 0 15]\n",
            " [16  0]\n",
            " [15  1]\n",
            " [14  2]\n",
            " [13  3]\n",
            " [12  4]\n",
            " [11  5]\n",
            " [10  6]\n",
            " [ 9  7]\n",
            " [ 8  8]\n",
            " [ 7  9]\n",
            " [ 6 10]\n",
            " [ 5 11]\n",
            " [ 4 12]\n",
            " [ 3 13]\n",
            " [ 2 14]\n",
            " [ 1 15]\n",
            " [ 0 16]\n",
            " [17  0]\n",
            " [16  1]\n",
            " [15  2]\n",
            " [14  3]\n",
            " [13  4]\n",
            " [12  5]\n",
            " [11  6]\n",
            " [10  7]\n",
            " [ 9  8]\n",
            " [ 8  9]\n",
            " [ 7 10]\n",
            " [ 6 11]\n",
            " [ 5 12]\n",
            " [ 4 13]\n",
            " [ 3 14]\n",
            " [ 2 15]\n",
            " [ 1 16]\n",
            " [ 0 17]\n",
            " [18  0]\n",
            " [17  1]\n",
            " [16  2]\n",
            " [15  3]\n",
            " [14  4]\n",
            " [13  5]\n",
            " [12  6]\n",
            " [11  7]\n",
            " [10  8]\n",
            " [ 9  9]\n",
            " [ 8 10]\n",
            " [ 7 11]\n",
            " [ 6 12]\n",
            " [ 5 13]\n",
            " [ 4 14]\n",
            " [ 3 15]\n",
            " [ 2 16]\n",
            " [ 1 17]\n",
            " [ 0 18]\n",
            " [19  0]\n",
            " [18  1]\n",
            " [17  2]\n",
            " [16  3]\n",
            " [15  4]\n",
            " [14  5]\n",
            " [13  6]\n",
            " [12  7]\n",
            " [11  8]\n",
            " [10  9]\n",
            " [ 9 10]\n",
            " [ 8 11]\n",
            " [ 7 12]\n",
            " [ 6 13]\n",
            " [ 5 14]\n",
            " [ 4 15]\n",
            " [ 3 16]\n",
            " [ 2 17]\n",
            " [ 1 18]\n",
            " [ 0 19]\n",
            " [20  0]\n",
            " [19  1]\n",
            " [18  2]\n",
            " [17  3]\n",
            " [16  4]\n",
            " [15  5]\n",
            " [14  6]\n",
            " [13  7]\n",
            " [12  8]\n",
            " [11  9]\n",
            " [10 10]\n",
            " [ 9 11]\n",
            " [ 8 12]\n",
            " [ 7 13]\n",
            " [ 6 14]\n",
            " [ 5 15]\n",
            " [ 4 16]\n",
            " [ 3 17]\n",
            " [ 2 18]\n",
            " [ 1 19]\n",
            " [ 0 20]\n",
            " [21  0]\n",
            " [20  1]\n",
            " [19  2]\n",
            " [18  3]\n",
            " [17  4]\n",
            " [16  5]\n",
            " [15  6]\n",
            " [14  7]\n",
            " [13  8]\n",
            " [12  9]\n",
            " [11 10]\n",
            " [10 11]\n",
            " [ 9 12]\n",
            " [ 8 13]\n",
            " [ 7 14]\n",
            " [ 6 15]\n",
            " [ 5 16]\n",
            " [ 4 17]\n",
            " [ 3 18]\n",
            " [ 2 19]\n",
            " [ 1 20]\n",
            " [ 0 21]\n",
            " [22  0]\n",
            " [21  1]\n",
            " [20  2]\n",
            " [19  3]\n",
            " [18  4]\n",
            " [17  5]\n",
            " [16  6]\n",
            " [15  7]\n",
            " [14  8]\n",
            " [13  9]\n",
            " [12 10]\n",
            " [11 11]\n",
            " [10 12]\n",
            " [ 9 13]\n",
            " [ 8 14]\n",
            " [ 7 15]\n",
            " [ 6 16]\n",
            " [ 5 17]\n",
            " [ 4 18]\n",
            " [ 3 19]\n",
            " [ 2 20]\n",
            " [ 1 21]\n",
            " [ 0 22]\n",
            " [23  0]\n",
            " [22  1]\n",
            " [21  2]\n",
            " [20  3]\n",
            " [19  4]\n",
            " [18  5]\n",
            " [17  6]\n",
            " [16  7]\n",
            " [15  8]\n",
            " [14  9]\n",
            " [13 10]\n",
            " [12 11]\n",
            " [11 12]\n",
            " [10 13]\n",
            " [ 9 14]\n",
            " [ 8 15]\n",
            " [ 7 16]\n",
            " [ 6 17]\n",
            " [ 5 18]\n",
            " [ 4 19]\n",
            " [ 3 20]\n",
            " [ 2 21]\n",
            " [ 1 22]\n",
            " [ 0 23]\n",
            " [24  0]\n",
            " [23  1]\n",
            " [22  2]\n",
            " [21  3]\n",
            " [20  4]\n",
            " [19  5]\n",
            " [18  6]\n",
            " [17  7]\n",
            " [16  8]\n",
            " [15  9]\n",
            " [14 10]\n",
            " [13 11]\n",
            " [12 12]\n",
            " [11 13]\n",
            " [10 14]\n",
            " [ 9 15]\n",
            " [ 8 16]\n",
            " [ 7 17]\n",
            " [ 6 18]\n",
            " [ 5 19]\n",
            " [ 4 20]\n",
            " [ 3 21]\n",
            " [ 2 22]\n",
            " [ 1 23]\n",
            " [ 0 24]\n",
            " [25  0]\n",
            " [24  1]\n",
            " [23  2]\n",
            " [22  3]\n",
            " [21  4]\n",
            " [20  5]\n",
            " [19  6]\n",
            " [18  7]\n",
            " [17  8]\n",
            " [16  9]\n",
            " [15 10]\n",
            " [14 11]\n",
            " [13 12]\n",
            " [12 13]\n",
            " [11 14]\n",
            " [10 15]\n",
            " [ 9 16]\n",
            " [ 8 17]\n",
            " [ 7 18]\n",
            " [ 6 19]\n",
            " [ 5 20]\n",
            " [ 4 21]\n",
            " [ 3 22]\n",
            " [ 2 23]\n",
            " [ 1 24]\n",
            " [ 0 25]\n",
            " [26  0]\n",
            " [25  1]\n",
            " [24  2]\n",
            " [23  3]\n",
            " [22  4]\n",
            " [21  5]\n",
            " [20  6]\n",
            " [19  7]\n",
            " [18  8]\n",
            " [17  9]\n",
            " [16 10]\n",
            " [15 11]\n",
            " [14 12]\n",
            " [13 13]\n",
            " [12 14]\n",
            " [11 15]\n",
            " [10 16]\n",
            " [ 9 17]\n",
            " [ 8 18]\n",
            " [ 7 19]\n",
            " [ 6 20]\n",
            " [ 5 21]\n",
            " [ 4 22]\n",
            " [ 3 23]\n",
            " [ 2 24]\n",
            " [ 1 25]\n",
            " [ 0 26]\n",
            " [27  0]\n",
            " [26  1]\n",
            " [25  2]\n",
            " [24  3]\n",
            " [23  4]\n",
            " [22  5]\n",
            " [21  6]\n",
            " [20  7]\n",
            " [19  8]\n",
            " [18  9]\n",
            " [17 10]\n",
            " [16 11]\n",
            " [15 12]\n",
            " [14 13]\n",
            " [13 14]\n",
            " [12 15]\n",
            " [11 16]\n",
            " [10 17]\n",
            " [ 9 18]\n",
            " [ 8 19]\n",
            " [ 7 20]\n",
            " [ 6 21]\n",
            " [ 5 22]\n",
            " [ 4 23]\n",
            " [ 3 24]\n",
            " [ 2 25]\n",
            " [ 1 26]\n",
            " [ 0 27]\n",
            " [28  0]\n",
            " [27  1]\n",
            " [26  2]\n",
            " [25  3]\n",
            " [24  4]\n",
            " [23  5]\n",
            " [22  6]\n",
            " [21  7]\n",
            " [20  8]\n",
            " [19  9]\n",
            " [18 10]\n",
            " [17 11]\n",
            " [16 12]\n",
            " [15 13]\n",
            " [14 14]\n",
            " [13 15]\n",
            " [12 16]\n",
            " [11 17]\n",
            " [10 18]\n",
            " [ 9 19]\n",
            " [ 8 20]\n",
            " [ 7 21]\n",
            " [ 6 22]\n",
            " [ 5 23]\n",
            " [ 4 24]\n",
            " [ 3 25]\n",
            " [ 2 26]\n",
            " [ 1 27]\n",
            " [ 0 28]\n",
            " [29  0]\n",
            " [28  1]\n",
            " [27  2]\n",
            " [26  3]\n",
            " [25  4]\n",
            " [24  5]\n",
            " [23  6]\n",
            " [22  7]\n",
            " [21  8]\n",
            " [20  9]\n",
            " [19 10]\n",
            " [18 11]\n",
            " [17 12]\n",
            " [16 13]\n",
            " [15 14]\n",
            " [14 15]\n",
            " [13 16]\n",
            " [12 17]\n",
            " [11 18]\n",
            " [10 19]\n",
            " [ 9 20]\n",
            " [ 8 21]\n",
            " [ 7 22]\n",
            " [ 6 23]\n",
            " [ 5 24]\n",
            " [ 4 25]\n",
            " [ 3 26]\n",
            " [ 2 27]\n",
            " [ 1 28]\n",
            " [ 0 29]\n",
            " [30  0]\n",
            " [29  1]\n",
            " [28  2]\n",
            " [27  3]\n",
            " [26  4]\n",
            " [25  5]\n",
            " [24  6]\n",
            " [23  7]\n",
            " [22  8]\n",
            " [21  9]\n",
            " [20 10]\n",
            " [19 11]\n",
            " [18 12]\n",
            " [17 13]\n",
            " [16 14]\n",
            " [15 15]\n",
            " [14 16]\n",
            " [13 17]\n",
            " [12 18]\n",
            " [11 19]\n",
            " [10 20]\n",
            " [ 9 21]\n",
            " [ 8 22]\n",
            " [ 7 23]\n",
            " [ 6 24]\n",
            " [ 5 25]\n",
            " [ 4 26]\n",
            " [ 3 27]\n",
            " [ 2 28]\n",
            " [ 1 29]\n",
            " [ 0 30]]\n"
          ]
        },
        {
          "output_type": "stream",
          "name": "stderr",
          "text": [
            "/usr/local/lib/python3.7/dist-packages/sklearn/utils/deprecation.py:103: FutureWarning:\n",
            "\n",
            "The attribute `n_input_features_` was deprecated in version 1.0 and will be removed in 1.2.\n",
            "\n"
          ]
        }
      ]
    },
    {
      "cell_type": "code",
      "source": [
        "X_multi_trans.shape"
      ],
      "metadata": {
        "colab": {
          "base_uri": "https://localhost:8080/"
        },
        "id": "lRNXFiYo_sFu",
        "outputId": "fb22540e-974f-49be-8afb-72327fc1fc69"
      },
      "execution_count": 66,
      "outputs": [
        {
          "output_type": "execute_result",
          "data": {
            "text/plain": [
              "(100, 496)"
            ]
          },
          "metadata": {},
          "execution_count": 66
        }
      ]
    },
    {
      "cell_type": "code",
      "source": [
        "lr = LinearRegression()\n",
        "lr.fit(X_multi_trans,z)"
      ],
      "metadata": {
        "colab": {
          "base_uri": "https://localhost:8080/"
        },
        "id": "Vh0tfx6j_u_u",
        "outputId": "15d42c4a-40d8-45a9-cf3b-8f2077f3f3e1"
      },
      "execution_count": 67,
      "outputs": [
        {
          "output_type": "execute_result",
          "data": {
            "text/plain": [
              "LinearRegression()"
            ]
          },
          "metadata": {},
          "execution_count": 67
        }
      ]
    },
    {
      "cell_type": "code",
      "source": [
        "X_test_multi = poly.transform(final)"
      ],
      "metadata": {
        "id": "9zj-4JFK_wbK"
      },
      "execution_count": 68,
      "outputs": []
    },
    {
      "cell_type": "code",
      "source": [
        "z_final = lr.predict(X_multi_trans).reshape(10,10)"
      ],
      "metadata": {
        "id": "crZUS1vn_xy9"
      },
      "execution_count": 69,
      "outputs": []
    },
    {
      "cell_type": "code",
      "source": [
        "fig = px.scatter_3d(x=x.ravel(), y=y.ravel(), z=z.ravel())\n",
        "\n",
        "fig.add_trace(go.Surface(x = x_input, y = y_input, z =z_final))\n",
        "\n",
        "fig.update_layout(scene = dict(zaxis = dict(range=[0,35])))\n",
        "\n",
        "fig.show()"
      ],
      "metadata": {
        "colab": {
          "base_uri": "https://localhost:8080/",
          "height": 542
        },
        "id": "ClNwacXF_zdy",
        "outputId": "6055aa2f-3488-4caa-bb38-8d068d463276"
      },
      "execution_count": 70,
      "outputs": [
        {
          "output_type": "display_data",
          "data": {
            "text/html": [
              "<html>\n",
              "<head><meta charset=\"utf-8\" /></head>\n",
              "<body>\n",
              "    <div>            <script src=\"https://cdnjs.cloudflare.com/ajax/libs/mathjax/2.7.5/MathJax.js?config=TeX-AMS-MML_SVG\"></script><script type=\"text/javascript\">if (window.MathJax) {MathJax.Hub.Config({SVG: {font: \"STIX-Web\"}});}</script>                <script type=\"text/javascript\">window.PlotlyConfig = {MathJaxConfig: 'local'};</script>\n",
              "        <script src=\"https://cdn.plot.ly/plotly-2.8.3.min.js\"></script>                <div id=\"96519e5f-e4df-4752-925d-fe35338c2b68\" class=\"plotly-graph-div\" style=\"height:525px; width:100%;\"></div>            <script type=\"text/javascript\">                                    window.PLOTLYENV=window.PLOTLYENV || {};                                    if (document.getElementById(\"96519e5f-e4df-4752-925d-fe35338c2b68\")) {                    Plotly.newPlot(                        \"96519e5f-e4df-4752-925d-fe35338c2b68\",                        [{\"hovertemplate\":\"x=%{x}<br>y=%{y}<br>z=%{z}<extra></extra>\",\"legendgroup\":\"\",\"marker\":{\"color\":\"#636efa\",\"symbol\":\"circle\"},\"mode\":\"markers\",\"name\":\"\",\"scene\":\"scene\",\"showlegend\":false,\"x\":[3.730653162469733,3.1780335318259425,1.4754964435501394,-2.614818593749643,3.6850669637830693,3.8624804261850114,4.145871158902976,0.7392532241929706,-1.9216175813740817,0.02950474694586891,4.040422234391536,2.7882287572660385,0.11581600513558676,4.026017106607344,2.284480055232433,-2.2106966253936866,2.6957158668691115,1.4720624488408038,0.8886189262487543,2.4365810090780116,-0.9206541881295096,3.7674035894187243,1.364094361055411,3.6362412812353764,3.6369079416970465,2.3665462657877523,0.0660305533859793,-1.7775845962137025,1.0433931310656055,-1.2536391721716367,0.03042060750507991,-2.301875897004261,-1.339466901532277,0.7762338742022035,2.829696207802302,-1.743867271423386,-2.0481060023118776,2.244533861710427,1.8673802177628387,2.2082723674264138,1.933563632026627,3.946288023664752,2.9123934794757576,-0.2136014426638888,0.9464590611338952,-0.6058994025314441,2.4553161227157974,4.058044941839646,1.6348899580539618,1.2553518194707403,1.5115255955686502,-1.1117554309343276,-0.34458369960628055,4.126709625715983,-1.8143536826127016,-2.0696747620400826,2.2568324747433417,-0.8546566224728003,-2.0100077182424463,3.0553274354134494,-0.44200887332946515,1.922227441618312,-0.314256188402656,0.1616494256382892,1.9841394802368377,1.4285492403989428,0.8299677008339152,-2.194137601735213,-1.3274654718978658,-0.25547433964934774,-0.022198357849793737,-2.662287202223773,3.9634339874175524,0.26044143743094583,-1.8450489504602738,1.024147067509297,3.4887973648620125,-1.8602023641184489,-0.829841112081833,1.3408107339801507,0.1571705566873054,0.5219582449986215,1.699502144635793,0.9302623639500975,-0.8601411392954943,4.167308705900933,3.8414625815152164,-0.47466726810581594,1.178697783118257,-2.503827047629071,2.8839884621032246,-1.9052102432601397,1.6169708674437153,3.5303567817412818,3.6361725153868054,2.5240023275789136,1.08194168224782,-0.7121242757691357,2.7041924360039333,1.6835990280937398],\"y\":[-1.4231124170718936,-0.6344913679569015,-1.0000595276708966,-0.5622462935797756,-1.4412084550160982,-2.580718904044933,-1.9746193724859133,0.5983882382139702,-1.8843269846741526,0.833692875817182,-1.6252555870396317,1.1102407125302416,-1.8389459807831283,0.9817023717633542,4.148656633418001,-2.3888510487288315,2.7463177769878673,2.3376824060999946,-0.33161013303918896,0.11198807027520985,1.9982936071403765,3.523799776421245,-0.11773510224340544,3.940493522091135,0.571951173873972,-0.2793881672310805,3.670240948948556,1.4857665169162209,3.374254752449226,-1.6720637700423855,3.8327891898468343,-0.2833217854666117,-0.5576603381510421,-0.4695017243641204,-0.19918611761349858,-2.5892331703058806,-0.25193435610495607,1.7137535919120754,1.9238831434430583,1.4822398057482475,2.2898490855442617,4.1345404531412555,-2.312978185514904,-0.41107452747103057,1.6995279641958723,-1.0067547125397334,3.915239134786562,1.8133854641864824,-0.5792131376824314,-1.753604453457963,2.087591282590772,-1.1778039896698669,-0.29164685093912945,1.0396630524606194,-1.1085338180716486,0.7093895585422927,-2.503174623516346,-0.4526294890072844,4.0379387855371265,1.4140142955095882,-1.6653585550380727,3.4673363458111277,1.481604488871782,3.6494202801879174,-2.6145533508392607,-0.27911186751709494,2.9031634194388607,-0.9254972242487431,2.5550268512571765,1.4721497000080639,1.4632072333640265,2.8157377576018083,-1.5457101053192162,-2.0095729051519435,4.016072499657921,-2.3623366209482195,2.5690666252844343,3.0615205341403176,-0.36788036537916824,-2.074265769825204,0.44536337051953145,-0.8039635698365424,1.5329489836623251,-2.6597211077278917,2.7808907153340616,0.5527110205526862,1.1000423625619136,-2.558665481624177,0.16816252955964295,1.7025656170419508,-1.3392400613187592,2.992147052199586,2.894443625237158,-1.6093315874873282,-2.5930209430415596,3.3639837278007354,0.532262913517723,3.306470322685869,-2.7332176200452674,2.7336579772878453],\"z\":[17.522172608950317,13.923260679605056,5.053069515345612,6.664181659470154,17.686097164955516,21.26274855392636,21.479044191800494,3.8863046247718036,8.828891750411977,2.7576895140279913,20.665503337471655,12.853370638266725,4.289840614628124,20.000900918863728,26.855435493267088,12.105443409599719,18.909188604875936,9.938196020801245,4.22559573007147,8.578868269616537,6.409529441761346,31.204474472736365,3.749738150914061,32.274610015801564,18.208544222305274,8.64963581384228,16.69086541084199,7.870008922673401,16.701930728408183,6.665419839697956,18.788822753792644,8.889537846120852,3.1577090115706907,2.0774188446440296,8.549923543095176,12.450621896181719,7.012956422626512,9.8291660138676,10.564439326576915,10.322101752707102,12.240037768684319,38.25796682066988,15.002645207683074,1.4038912074014358,7.532680433425009,2.338234220670121,25.46901631498102,22.16847868319521,5.901447503801924,6.963851890806613,8.13118847037531,3.8833512277146296,2.8316496828125524,22.57356700317286,4.6416560125452,7.5171874513555625,12.957604641458422,2.6118295596417336,21.213428303862305,14.300769155366737,4.389966339769922,20.42989087279134,5.01224708467907,16.685305776241396,13.44432513686169,5.085413653986127,11.185411739694054,7.607012663662375,8.808557291725595,3.2684888855715553,4.346031500549435,14.615291984206976,20.544524703579793,6.487617701338226,22.116394601006963,9.185071881018184,24.200134556838982,15.404194266577852,3.35240232486437,8.017115431820844,1.67096528344083,3.0593965691877947,8.817587287146686,9.669181115459756,11.661853911469503,19.841306211003474,20.416620211489498,7.953856527910195,4.4260880712309145,11.1628919709878,11.037052905496168,13.63817097129757,14.967145215035062,16.85848422058174,20.902590844931048,20.811022483754254,5.86640195187453,15.078164949943059,15.052170801491071,13.939926947071886],\"type\":\"scatter3d\"},{\"x\":[-2.662287202223773,-1.903443212432139,-1.144599222640505,-0.38575523284887137,0.3730887569427628,1.131932746734397,1.8907767365260302,2.6496207263176643,3.4084647161092985,4.167308705900933],\"y\":[-2.7332176200452674,-1.9685649252160153,-1.2039122303867633,-0.43925953555751107,0.32539315927174073,1.0900458541009925,1.8546985489302452,2.619351243759497,3.384003938588749,4.148656633418001],\"z\":[[17.523474184818546,13.924494133353214,5.0560669582560465,6.6605591457560465,17.7244990364918,21.256262270756046,21.481726137943546,3.8807166787087723,8.832904415227453,2.757078651361148],[20.667074648685734,12.839117495365421,4.289907900638859,19.151479719421594,10.735441734403384,12.105921769406045,10.857521291394079,9.937114892549793,4.225653027002913,8.57762303717805],[6.4061646145060465,31.21250623280553,10.784736957837834,32.27042242700605,22.025548891644327,6.395556067279063,16.698767153568546,7.869392674786063,16.695162804208444,6.668394891567509],[18.73676621746312,10.784593708270409,1.9979707327061575,2.0797783755556836,10.762343571650707,12.433521115709077,7.0127319973185465,8.549149943208072,10.56503531152753,10.400489166097612],[10.784592724682334,50.02125623331448,15.023840395756046,1.4036316555216715,7.5285195433758005,2.3390713613703653,25.458204714603703,22.168554751224796,10.786725926024223,6.971615536160748],[11.336353592269782,10.784664699463194,2.8569166800230548,22.58218309126635,4.135963747054653,5.256863023661538,15.246789686060758,2.5941528957560465,21.21714314634351,10.784593923844795],[4.391775576420109,20.431921450443546,10.784588239514264,16.685202090091984,13.443428484745304,5.0851807277872965,10.784600160112378,7.602249488722514,8.820733121381643,4.4035601439341505],[4.3348755520060465,14.61513874453572,23.127207527688903,6.4873413723185465,22.598637404971008,9.170677788818061,10.783799637126931,10.786246060904627,3.3524223350910276,8.017981020756046],[1.671147791691105,3.077261416263859,8.814350220397095,9.669983407504837,11.666522623993437,19.84795211816577,20.421211657993858,7.9432739895060465,4.425681082554142,11.154706719716664],[10.784588830238036,13.645398424960653,14.970087749905865,16.849471457324903,22.995809219823414,20.798291413135807,5.86175253803281,15.078493563480656,15.061375109501164,13.940047604985516]],\"type\":\"surface\"}],                        {\"template\":{\"data\":{\"bar\":[{\"error_x\":{\"color\":\"#2a3f5f\"},\"error_y\":{\"color\":\"#2a3f5f\"},\"marker\":{\"line\":{\"color\":\"#E5ECF6\",\"width\":0.5},\"pattern\":{\"fillmode\":\"overlay\",\"size\":10,\"solidity\":0.2}},\"type\":\"bar\"}],\"barpolar\":[{\"marker\":{\"line\":{\"color\":\"#E5ECF6\",\"width\":0.5},\"pattern\":{\"fillmode\":\"overlay\",\"size\":10,\"solidity\":0.2}},\"type\":\"barpolar\"}],\"carpet\":[{\"aaxis\":{\"endlinecolor\":\"#2a3f5f\",\"gridcolor\":\"white\",\"linecolor\":\"white\",\"minorgridcolor\":\"white\",\"startlinecolor\":\"#2a3f5f\"},\"baxis\":{\"endlinecolor\":\"#2a3f5f\",\"gridcolor\":\"white\",\"linecolor\":\"white\",\"minorgridcolor\":\"white\",\"startlinecolor\":\"#2a3f5f\"},\"type\":\"carpet\"}],\"choropleth\":[{\"colorbar\":{\"outlinewidth\":0,\"ticks\":\"\"},\"type\":\"choropleth\"}],\"contour\":[{\"colorbar\":{\"outlinewidth\":0,\"ticks\":\"\"},\"colorscale\":[[0.0,\"#0d0887\"],[0.1111111111111111,\"#46039f\"],[0.2222222222222222,\"#7201a8\"],[0.3333333333333333,\"#9c179e\"],[0.4444444444444444,\"#bd3786\"],[0.5555555555555556,\"#d8576b\"],[0.6666666666666666,\"#ed7953\"],[0.7777777777777778,\"#fb9f3a\"],[0.8888888888888888,\"#fdca26\"],[1.0,\"#f0f921\"]],\"type\":\"contour\"}],\"contourcarpet\":[{\"colorbar\":{\"outlinewidth\":0,\"ticks\":\"\"},\"type\":\"contourcarpet\"}],\"heatmap\":[{\"colorbar\":{\"outlinewidth\":0,\"ticks\":\"\"},\"colorscale\":[[0.0,\"#0d0887\"],[0.1111111111111111,\"#46039f\"],[0.2222222222222222,\"#7201a8\"],[0.3333333333333333,\"#9c179e\"],[0.4444444444444444,\"#bd3786\"],[0.5555555555555556,\"#d8576b\"],[0.6666666666666666,\"#ed7953\"],[0.7777777777777778,\"#fb9f3a\"],[0.8888888888888888,\"#fdca26\"],[1.0,\"#f0f921\"]],\"type\":\"heatmap\"}],\"heatmapgl\":[{\"colorbar\":{\"outlinewidth\":0,\"ticks\":\"\"},\"colorscale\":[[0.0,\"#0d0887\"],[0.1111111111111111,\"#46039f\"],[0.2222222222222222,\"#7201a8\"],[0.3333333333333333,\"#9c179e\"],[0.4444444444444444,\"#bd3786\"],[0.5555555555555556,\"#d8576b\"],[0.6666666666666666,\"#ed7953\"],[0.7777777777777778,\"#fb9f3a\"],[0.8888888888888888,\"#fdca26\"],[1.0,\"#f0f921\"]],\"type\":\"heatmapgl\"}],\"histogram\":[{\"marker\":{\"pattern\":{\"fillmode\":\"overlay\",\"size\":10,\"solidity\":0.2}},\"type\":\"histogram\"}],\"histogram2d\":[{\"colorbar\":{\"outlinewidth\":0,\"ticks\":\"\"},\"colorscale\":[[0.0,\"#0d0887\"],[0.1111111111111111,\"#46039f\"],[0.2222222222222222,\"#7201a8\"],[0.3333333333333333,\"#9c179e\"],[0.4444444444444444,\"#bd3786\"],[0.5555555555555556,\"#d8576b\"],[0.6666666666666666,\"#ed7953\"],[0.7777777777777778,\"#fb9f3a\"],[0.8888888888888888,\"#fdca26\"],[1.0,\"#f0f921\"]],\"type\":\"histogram2d\"}],\"histogram2dcontour\":[{\"colorbar\":{\"outlinewidth\":0,\"ticks\":\"\"},\"colorscale\":[[0.0,\"#0d0887\"],[0.1111111111111111,\"#46039f\"],[0.2222222222222222,\"#7201a8\"],[0.3333333333333333,\"#9c179e\"],[0.4444444444444444,\"#bd3786\"],[0.5555555555555556,\"#d8576b\"],[0.6666666666666666,\"#ed7953\"],[0.7777777777777778,\"#fb9f3a\"],[0.8888888888888888,\"#fdca26\"],[1.0,\"#f0f921\"]],\"type\":\"histogram2dcontour\"}],\"mesh3d\":[{\"colorbar\":{\"outlinewidth\":0,\"ticks\":\"\"},\"type\":\"mesh3d\"}],\"parcoords\":[{\"line\":{\"colorbar\":{\"outlinewidth\":0,\"ticks\":\"\"}},\"type\":\"parcoords\"}],\"pie\":[{\"automargin\":true,\"type\":\"pie\"}],\"scatter\":[{\"marker\":{\"colorbar\":{\"outlinewidth\":0,\"ticks\":\"\"}},\"type\":\"scatter\"}],\"scatter3d\":[{\"line\":{\"colorbar\":{\"outlinewidth\":0,\"ticks\":\"\"}},\"marker\":{\"colorbar\":{\"outlinewidth\":0,\"ticks\":\"\"}},\"type\":\"scatter3d\"}],\"scattercarpet\":[{\"marker\":{\"colorbar\":{\"outlinewidth\":0,\"ticks\":\"\"}},\"type\":\"scattercarpet\"}],\"scattergeo\":[{\"marker\":{\"colorbar\":{\"outlinewidth\":0,\"ticks\":\"\"}},\"type\":\"scattergeo\"}],\"scattergl\":[{\"marker\":{\"colorbar\":{\"outlinewidth\":0,\"ticks\":\"\"}},\"type\":\"scattergl\"}],\"scattermapbox\":[{\"marker\":{\"colorbar\":{\"outlinewidth\":0,\"ticks\":\"\"}},\"type\":\"scattermapbox\"}],\"scatterpolar\":[{\"marker\":{\"colorbar\":{\"outlinewidth\":0,\"ticks\":\"\"}},\"type\":\"scatterpolar\"}],\"scatterpolargl\":[{\"marker\":{\"colorbar\":{\"outlinewidth\":0,\"ticks\":\"\"}},\"type\":\"scatterpolargl\"}],\"scatterternary\":[{\"marker\":{\"colorbar\":{\"outlinewidth\":0,\"ticks\":\"\"}},\"type\":\"scatterternary\"}],\"surface\":[{\"colorbar\":{\"outlinewidth\":0,\"ticks\":\"\"},\"colorscale\":[[0.0,\"#0d0887\"],[0.1111111111111111,\"#46039f\"],[0.2222222222222222,\"#7201a8\"],[0.3333333333333333,\"#9c179e\"],[0.4444444444444444,\"#bd3786\"],[0.5555555555555556,\"#d8576b\"],[0.6666666666666666,\"#ed7953\"],[0.7777777777777778,\"#fb9f3a\"],[0.8888888888888888,\"#fdca26\"],[1.0,\"#f0f921\"]],\"type\":\"surface\"}],\"table\":[{\"cells\":{\"fill\":{\"color\":\"#EBF0F8\"},\"line\":{\"color\":\"white\"}},\"header\":{\"fill\":{\"color\":\"#C8D4E3\"},\"line\":{\"color\":\"white\"}},\"type\":\"table\"}]},\"layout\":{\"annotationdefaults\":{\"arrowcolor\":\"#2a3f5f\",\"arrowhead\":0,\"arrowwidth\":1},\"autotypenumbers\":\"strict\",\"coloraxis\":{\"colorbar\":{\"outlinewidth\":0,\"ticks\":\"\"}},\"colorscale\":{\"diverging\":[[0,\"#8e0152\"],[0.1,\"#c51b7d\"],[0.2,\"#de77ae\"],[0.3,\"#f1b6da\"],[0.4,\"#fde0ef\"],[0.5,\"#f7f7f7\"],[0.6,\"#e6f5d0\"],[0.7,\"#b8e186\"],[0.8,\"#7fbc41\"],[0.9,\"#4d9221\"],[1,\"#276419\"]],\"sequential\":[[0.0,\"#0d0887\"],[0.1111111111111111,\"#46039f\"],[0.2222222222222222,\"#7201a8\"],[0.3333333333333333,\"#9c179e\"],[0.4444444444444444,\"#bd3786\"],[0.5555555555555556,\"#d8576b\"],[0.6666666666666666,\"#ed7953\"],[0.7777777777777778,\"#fb9f3a\"],[0.8888888888888888,\"#fdca26\"],[1.0,\"#f0f921\"]],\"sequentialminus\":[[0.0,\"#0d0887\"],[0.1111111111111111,\"#46039f\"],[0.2222222222222222,\"#7201a8\"],[0.3333333333333333,\"#9c179e\"],[0.4444444444444444,\"#bd3786\"],[0.5555555555555556,\"#d8576b\"],[0.6666666666666666,\"#ed7953\"],[0.7777777777777778,\"#fb9f3a\"],[0.8888888888888888,\"#fdca26\"],[1.0,\"#f0f921\"]]},\"colorway\":[\"#636efa\",\"#EF553B\",\"#00cc96\",\"#ab63fa\",\"#FFA15A\",\"#19d3f3\",\"#FF6692\",\"#B6E880\",\"#FF97FF\",\"#FECB52\"],\"font\":{\"color\":\"#2a3f5f\"},\"geo\":{\"bgcolor\":\"white\",\"lakecolor\":\"white\",\"landcolor\":\"#E5ECF6\",\"showlakes\":true,\"showland\":true,\"subunitcolor\":\"white\"},\"hoverlabel\":{\"align\":\"left\"},\"hovermode\":\"closest\",\"mapbox\":{\"style\":\"light\"},\"paper_bgcolor\":\"white\",\"plot_bgcolor\":\"#E5ECF6\",\"polar\":{\"angularaxis\":{\"gridcolor\":\"white\",\"linecolor\":\"white\",\"ticks\":\"\"},\"bgcolor\":\"#E5ECF6\",\"radialaxis\":{\"gridcolor\":\"white\",\"linecolor\":\"white\",\"ticks\":\"\"}},\"scene\":{\"xaxis\":{\"backgroundcolor\":\"#E5ECF6\",\"gridcolor\":\"white\",\"gridwidth\":2,\"linecolor\":\"white\",\"showbackground\":true,\"ticks\":\"\",\"zerolinecolor\":\"white\"},\"yaxis\":{\"backgroundcolor\":\"#E5ECF6\",\"gridcolor\":\"white\",\"gridwidth\":2,\"linecolor\":\"white\",\"showbackground\":true,\"ticks\":\"\",\"zerolinecolor\":\"white\"},\"zaxis\":{\"backgroundcolor\":\"#E5ECF6\",\"gridcolor\":\"white\",\"gridwidth\":2,\"linecolor\":\"white\",\"showbackground\":true,\"ticks\":\"\",\"zerolinecolor\":\"white\"}},\"shapedefaults\":{\"line\":{\"color\":\"#2a3f5f\"}},\"ternary\":{\"aaxis\":{\"gridcolor\":\"white\",\"linecolor\":\"white\",\"ticks\":\"\"},\"baxis\":{\"gridcolor\":\"white\",\"linecolor\":\"white\",\"ticks\":\"\"},\"bgcolor\":\"#E5ECF6\",\"caxis\":{\"gridcolor\":\"white\",\"linecolor\":\"white\",\"ticks\":\"\"}},\"title\":{\"x\":0.05},\"xaxis\":{\"automargin\":true,\"gridcolor\":\"white\",\"linecolor\":\"white\",\"ticks\":\"\",\"title\":{\"standoff\":15},\"zerolinecolor\":\"white\",\"zerolinewidth\":2},\"yaxis\":{\"automargin\":true,\"gridcolor\":\"white\",\"linecolor\":\"white\",\"ticks\":\"\",\"title\":{\"standoff\":15},\"zerolinecolor\":\"white\",\"zerolinewidth\":2}}},\"scene\":{\"domain\":{\"x\":[0.0,1.0],\"y\":[0.0,1.0]},\"xaxis\":{\"title\":{\"text\":\"x\"}},\"yaxis\":{\"title\":{\"text\":\"y\"}},\"zaxis\":{\"title\":{\"text\":\"z\"},\"range\":[0,35]}},\"legend\":{\"tracegroupgap\":0},\"margin\":{\"t\":60}},                        {\"responsive\": true}                    ).then(function(){\n",
              "                            \n",
              "var gd = document.getElementById('96519e5f-e4df-4752-925d-fe35338c2b68');\n",
              "var x = new MutationObserver(function (mutations, observer) {{\n",
              "        var display = window.getComputedStyle(gd).display;\n",
              "        if (!display || display === 'none') {{\n",
              "            console.log([gd, 'removed!']);\n",
              "            Plotly.purge(gd);\n",
              "            observer.disconnect();\n",
              "        }}\n",
              "}});\n",
              "\n",
              "// Listen for the removal of the full notebook cells\n",
              "var notebookContainer = gd.closest('#notebook-container');\n",
              "if (notebookContainer) {{\n",
              "    x.observe(notebookContainer, {childList: true});\n",
              "}}\n",
              "\n",
              "// Listen for the clearing of the current output cell\n",
              "var outputEl = gd.closest('.output');\n",
              "if (outputEl) {{\n",
              "    x.observe(outputEl, {childList: true});\n",
              "}}\n",
              "\n",
              "                        })                };                            </script>        </div>\n",
              "</body>\n",
              "</html>"
            ]
          },
          "metadata": {}
        }
      ]
    },
    {
      "cell_type": "code",
      "source": [],
      "metadata": {
        "id": "nf7NBiUT_1eu"
      },
      "execution_count": 70,
      "outputs": []
    }
  ]
}